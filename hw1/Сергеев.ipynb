{
 "cells": [
  {
   "cell_type": "code",
   "execution_count": 1,
   "metadata": {},
   "outputs": [],
   "source": [
    "import pickle\n",
    "import numpy as np\n",
    "import PIL.Image\n",
    "import itertools\n",
    "from IPython.core.display import Image, display\n",
    "import scipy.ndimage\n",
    "import random\n",
    "import numpy as np\n",
    "import matplotlib.pylab as plt\n",
    "import tqdm\n",
    "import math\n",
    "%matplotlib inline"
   ]
  },
  {
   "cell_type": "markdown",
   "metadata": {
    "collapsed": true
   },
   "source": [
    "# Загружаем датасет"
   ]
  },
  {
   "cell_type": "code",
   "execution_count": 2,
   "metadata": {},
   "outputs": [],
   "source": [
    "with open('hw_1_train.pickle', 'rb') as f:\n",
    "    train = pickle.load(f)\n",
    "\n",
    "with open('hw_1_test_no_lables.pickle', 'rb') as f:\n",
    "    test_no_lables = pickle.load(f)"
   ]
  },
  {
   "cell_type": "code",
   "execution_count": 3,
   "metadata": {},
   "outputs": [
    {
     "data": {
      "text/plain": [
       "<matplotlib.image.AxesImage at 0x1d525fb16d8>"
      ]
     },
     "execution_count": 3,
     "metadata": {},
     "output_type": "execute_result"
    },
    {
     "data": {
      "image/png": "[encoded data removed]",
      "text/plain": [
       "<Figure size 432x288 with 1 Axes>"
      ]
     },
     "metadata": {
      "needs_background": "light"
     },
     "output_type": "display_data"
    }
   ],
   "source": [
    "# Пример, как можно визуализировать данные\n",
    "plt.imshow(train['data'][0].reshape(28, 28))"
   ]
  },
  {
   "cell_type": "markdown",
   "metadata": {},
   "source": [
    "# Обучаем модель"
   ]
  },
  {
   "cell_type": "code",
   "execution_count": 4,
   "metadata": {},
   "outputs": [
    {
     "name": "stderr",
     "output_type": "stream",
     "text": [
      "C:\\Anaconda\\lib\\site-packages\\sklearn\\cross_validation.py:41: DeprecationWarning: This module was deprecated in version 0.18 in favor of the model_selection module into which all the refactored classes and functions are moved. Also note that the interface of the new CV iterators are different from that of this module. This module will be removed in 0.20.\n",
      "  \"This module will be removed in 0.20.\", DeprecationWarning)\n"
     ]
    }
   ],
   "source": [
    "from sklearn import cross_validation\n",
    "\n",
    "Data_X = train['data'] / 255.\n",
    "Data_Y = train['labels']\n",
    "\n",
    "#для дальнейшего применения сигмоиды заменим 5 на -1, 6 на 1\n",
    "for i in range(Data_Y.shape[0]):\n",
    "    if Data_Y[i] == 5:\n",
    "        Data_Y[i] = -1\n",
    "    else:\n",
    "        Data_Y[i] = 1\n",
    "        \n",
    "\n",
    "x_train, x_test, y_train, y_test = cross_validation.train_test_split(Data_X, Data_Y, test_size = 0.1, random_state=10)\n",
    "\n",
    "\n",
    "x_train = np.hstack([ np.ones((x_train.shape[0], 1)), x_train])\n",
    "x_test = np.hstack([ np.ones((x_test.shape[0], 1)), x_test])\n",
    "\n",
    "\n",
    "def logloss(x,y,w):\n",
    "    res = 0\n",
    "    for i in range(w.shape[0]):\n",
    "        res += math.log(1 + math.exp(-y[i]*(np.dot(w.T,x[i]))))\n",
    "    return res  \n",
    "\n",
    "\n",
    "def accuracy(x,y,w):\n",
    "    counter = 0\n",
    "    pred = np.dot(x, w)\n",
    "    for i in range(y.shape[0]):\n",
    "        if ((pred[i] >= 0.5) & (y[i] == 1)) or ((pred[i] < 0.5) & (y[i] == -1)):\n",
    "            counter = counter + 1\n",
    "        else:\n",
    "            pass \n",
    "    return counter/y.shape[0]"
   ]
  },
  {
   "cell_type": "code",
   "execution_count": 5,
   "metadata": {},
   "outputs": [
    {
     "data": {
      "application/vnd.jupyter.widget-view+json": {
       "model_id": "ae56c31a38834799b30956e17f1c23eb",
       "version_major": 2,
       "version_minor": 0
      },
      "text/plain": [
       "HBox(children=(IntProgress(value=0, max=350), HTML(value='')))"
      ]
     },
     "metadata": {},
     "output_type": "display_data"
    },
    {
     "name": "stdout",
     "output_type": "stream",
     "text": [
      "\n"
     ]
    }
   ],
   "source": [
    "w = np.random.normal(scale=0.001, size = x_train.shape[1])\n",
    "\n",
    "train_loss = []\n",
    "test_loss = []\n",
    "train_accuracy = []\n",
    "test_accuracy = []\n",
    "alpha = 0.0005\n",
    "#хотел уменьшать параметр с каждой итерацией, но получалось только хуже\n",
    "\n",
    "for iter in tqdm.tqdm_notebook(range(350)):\n",
    "    for i in range(x_train.shape[0]):\n",
    "        j = np.random.randint(0, x_train.shape[0])\n",
    "        grad = - (y_train[j] * x_train[j] )/( 1 + math.exp( y_train[j] * np.dot(w.T, x_train[j])))\n",
    "        w = w - alpha * grad\n",
    "    \n",
    "    train_loss.append(logloss(x_train, y_train, w))\n",
    "    test_loss.append(logloss(x_test, y_test, w))\n",
    "\n",
    "    train_accuracy.append(accuracy(x_train, y_train, w))\n",
    "    test_accuracy.append(accuracy(x_test, y_test, w))"
   ]
  },
  {
   "cell_type": "markdown",
   "metadata": {},
   "source": [
    "# Оцениваем результат"
   ]
  },
  {
   "cell_type": "markdown",
   "metadata": {},
   "source": [
    "Обязательно отрисуйте 2 графика:\n",
    "- loss на обучающем и тестовом множесте\n",
    "- % правильно классифицированных примеров на тестовом и обучающем множестве"
   ]
  },
  {
   "cell_type": "code",
   "execution_count": 6,
   "metadata": {},
   "outputs": [
    {
     "data": {
      "text/plain": [
       "<matplotlib.legend.Legend at 0x1d52b1496d8>"
      ]
     },
     "execution_count": 6,
     "metadata": {},
     "output_type": "execute_result"
    },
    {
     "data": {
      "image/png": "[encoded data removed]",
      "text/plain": [
       "<Figure size 432x288 with 1 Axes>"
      ]
     },
     "metadata": {
      "needs_background": "light"
     },
     "output_type": "display_data"
    }
   ],
   "source": [
    "x = range(0,350)\n",
    "\n",
    "plt.title('Loss')\n",
    "plt.plot(x, train_loss, label='train')\n",
    "plt.plot(x, test_loss, label='test')\n",
    "plt.legend()"
   ]
  },
  {
   "cell_type": "code",
   "execution_count": 7,
   "metadata": {},
   "outputs": [
    {
     "data": {
      "text/plain": [
       "50.62864178490211"
      ]
     },
     "execution_count": 7,
     "metadata": {},
     "output_type": "execute_result"
    }
   ],
   "source": [
    "test_loss[349]"
   ]
  },
  {
   "cell_type": "code",
   "execution_count": 8,
   "metadata": {},
   "outputs": [
    {
     "data": {
      "text/plain": [
       "<matplotlib.legend.Legend at 0x1d52b1d14a8>"
      ]
     },
     "execution_count": 8,
     "metadata": {},
     "output_type": "execute_result"
    },
    {
     "data": {
      "image/png": "[encoded data removed]",
      "text/plain": [
       "<Figure size 432x288 with 1 Axes>"
      ]
     },
     "metadata": {
      "needs_background": "light"
     },
     "output_type": "display_data"
    }
   ],
   "source": [
    "plt.title('Acc')\n",
    "plt.plot(x, train_accuracy, label='train')\n",
    "plt.plot(x, test_accuracy, label='test')\n",
    "plt.legend()"
   ]
  },
  {
   "cell_type": "code",
   "execution_count": 9,
   "metadata": {},
   "outputs": [
    {
     "data": {
      "text/plain": [
       "[0.957,\n",
       " 0.966,\n",
       " 0.965,\n",
       " 0.967,\n",
       " 0.969,\n",
       " 0.969,\n",
       " 0.967,\n",
       " 0.966,\n",
       " 0.968,\n",
       " 0.97,\n",
       " 0.969,\n",
       " 0.97,\n",
       " 0.97,\n",
       " 0.974,\n",
       " 0.971,\n",
       " 0.971,\n",
       " 0.973,\n",
       " 0.973,\n",
       " 0.974,\n",
       " 0.975,\n",
       " 0.975,\n",
       " 0.974,\n",
       " 0.975,\n",
       " 0.974,\n",
       " 0.975,\n",
       " 0.973,\n",
       " 0.974,\n",
       " 0.974,\n",
       " 0.975,\n",
       " 0.974,\n",
       " 0.976,\n",
       " 0.974,\n",
       " 0.975,\n",
       " 0.976,\n",
       " 0.975,\n",
       " 0.977,\n",
       " 0.977,\n",
       " 0.976,\n",
       " 0.977,\n",
       " 0.976,\n",
       " 0.975,\n",
       " 0.977,\n",
       " 0.976,\n",
       " 0.976,\n",
       " 0.977,\n",
       " 0.976,\n",
       " 0.976,\n",
       " 0.978,\n",
       " 0.976,\n",
       " 0.977,\n",
       " 0.979,\n",
       " 0.979,\n",
       " 0.979,\n",
       " 0.978,\n",
       " 0.978,\n",
       " 0.978,\n",
       " 0.978,\n",
       " 0.978,\n",
       " 0.978,\n",
       " 0.976,\n",
       " 0.979,\n",
       " 0.977,\n",
       " 0.976,\n",
       " 0.977,\n",
       " 0.98,\n",
       " 0.979,\n",
       " 0.977,\n",
       " 0.98,\n",
       " 0.98,\n",
       " 0.977,\n",
       " 0.978,\n",
       " 0.977,\n",
       " 0.977,\n",
       " 0.98,\n",
       " 0.98,\n",
       " 0.98,\n",
       " 0.977,\n",
       " 0.979,\n",
       " 0.98,\n",
       " 0.98,\n",
       " 0.98,\n",
       " 0.98,\n",
       " 0.98,\n",
       " 0.979,\n",
       " 0.98,\n",
       " 0.978,\n",
       " 0.98,\n",
       " 0.979,\n",
       " 0.978,\n",
       " 0.98,\n",
       " 0.979,\n",
       " 0.98,\n",
       " 0.98,\n",
       " 0.978,\n",
       " 0.98,\n",
       " 0.98,\n",
       " 0.98,\n",
       " 0.98,\n",
       " 0.98,\n",
       " 0.98,\n",
       " 0.98,\n",
       " 0.98,\n",
       " 0.98,\n",
       " 0.98,\n",
       " 0.98,\n",
       " 0.98,\n",
       " 0.98,\n",
       " 0.98,\n",
       " 0.979,\n",
       " 0.98,\n",
       " 0.978,\n",
       " 0.98,\n",
       " 0.98,\n",
       " 0.98,\n",
       " 0.98,\n",
       " 0.98,\n",
       " 0.98,\n",
       " 0.978,\n",
       " 0.979,\n",
       " 0.979,\n",
       " 0.98,\n",
       " 0.98,\n",
       " 0.98,\n",
       " 0.98,\n",
       " 0.98,\n",
       " 0.978,\n",
       " 0.98,\n",
       " 0.979,\n",
       " 0.978,\n",
       " 0.979,\n",
       " 0.979,\n",
       " 0.978,\n",
       " 0.979,\n",
       " 0.979,\n",
       " 0.978,\n",
       " 0.979,\n",
       " 0.978,\n",
       " 0.979,\n",
       " 0.979,\n",
       " 0.979,\n",
       " 0.979,\n",
       " 0.979,\n",
       " 0.979,\n",
       " 0.98,\n",
       " 0.98,\n",
       " 0.98,\n",
       " 0.979,\n",
       " 0.98,\n",
       " 0.979,\n",
       " 0.979,\n",
       " 0.979,\n",
       " 0.979,\n",
       " 0.979,\n",
       " 0.979,\n",
       " 0.979,\n",
       " 0.98,\n",
       " 0.979,\n",
       " 0.979,\n",
       " 0.978,\n",
       " 0.979,\n",
       " 0.978,\n",
       " 0.979,\n",
       " 0.979,\n",
       " 0.979,\n",
       " 0.978,\n",
       " 0.979,\n",
       " 0.979,\n",
       " 0.978,\n",
       " 0.979,\n",
       " 0.979,\n",
       " 0.979,\n",
       " 0.979,\n",
       " 0.979,\n",
       " 0.978,\n",
       " 0.979,\n",
       " 0.979,\n",
       " 0.979,\n",
       " 0.979,\n",
       " 0.978,\n",
       " 0.979,\n",
       " 0.979,\n",
       " 0.979,\n",
       " 0.978,\n",
       " 0.979,\n",
       " 0.978,\n",
       " 0.979,\n",
       " 0.979,\n",
       " 0.979,\n",
       " 0.979,\n",
       " 0.98,\n",
       " 0.979,\n",
       " 0.979,\n",
       " 0.979,\n",
       " 0.979,\n",
       " 0.979,\n",
       " 0.979,\n",
       " 0.979,\n",
       " 0.979,\n",
       " 0.979,\n",
       " 0.979,\n",
       " 0.978,\n",
       " 0.978,\n",
       " 0.979,\n",
       " 0.978,\n",
       " 0.979,\n",
       " 0.979,\n",
       " 0.978,\n",
       " 0.978,\n",
       " 0.979,\n",
       " 0.979,\n",
       " 0.979,\n",
       " 0.979,\n",
       " 0.979,\n",
       " 0.979,\n",
       " 0.979,\n",
       " 0.979,\n",
       " 0.979,\n",
       " 0.979,\n",
       " 0.979,\n",
       " 0.979,\n",
       " 0.979,\n",
       " 0.978,\n",
       " 0.979,\n",
       " 0.979,\n",
       " 0.978,\n",
       " 0.979,\n",
       " 0.979,\n",
       " 0.978,\n",
       " 0.98,\n",
       " 0.979,\n",
       " 0.98,\n",
       " 0.979,\n",
       " 0.98,\n",
       " 0.98,\n",
       " 0.98,\n",
       " 0.98,\n",
       " 0.98,\n",
       " 0.98,\n",
       " 0.979,\n",
       " 0.98,\n",
       " 0.978,\n",
       " 0.98,\n",
       " 0.98,\n",
       " 0.979,\n",
       " 0.978,\n",
       " 0.979,\n",
       " 0.978,\n",
       " 0.978,\n",
       " 0.978,\n",
       " 0.978,\n",
       " 0.978,\n",
       " 0.979,\n",
       " 0.979,\n",
       " 0.979,\n",
       " 0.978,\n",
       " 0.979,\n",
       " 0.979,\n",
       " 0.98,\n",
       " 0.979,\n",
       " 0.98,\n",
       " 0.979,\n",
       " 0.981,\n",
       " 0.979,\n",
       " 0.977,\n",
       " 0.979,\n",
       " 0.979,\n",
       " 0.98,\n",
       " 0.98,\n",
       " 0.979,\n",
       " 0.98,\n",
       " 0.98,\n",
       " 0.979,\n",
       " 0.98,\n",
       " 0.979,\n",
       " 0.979,\n",
       " 0.98,\n",
       " 0.98,\n",
       " 0.979,\n",
       " 0.979,\n",
       " 0.979,\n",
       " 0.978,\n",
       " 0.98,\n",
       " 0.978,\n",
       " 0.979,\n",
       " 0.98,\n",
       " 0.979,\n",
       " 0.977,\n",
       " 0.979,\n",
       " 0.979,\n",
       " 0.978,\n",
       " 0.979,\n",
       " 0.98,\n",
       " 0.979,\n",
       " 0.978,\n",
       " 0.978,\n",
       " 0.977,\n",
       " 0.981,\n",
       " 0.977,\n",
       " 0.978,\n",
       " 0.977,\n",
       " 0.979,\n",
       " 0.979,\n",
       " 0.977,\n",
       " 0.977,\n",
       " 0.977,\n",
       " 0.979,\n",
       " 0.979,\n",
       " 0.977,\n",
       " 0.979,\n",
       " 0.978,\n",
       " 0.978,\n",
       " 0.979,\n",
       " 0.978,\n",
       " 0.978,\n",
       " 0.979,\n",
       " 0.979,\n",
       " 0.978,\n",
       " 0.98,\n",
       " 0.978,\n",
       " 0.978,\n",
       " 0.978,\n",
       " 0.978,\n",
       " 0.978,\n",
       " 0.978,\n",
       " 0.979,\n",
       " 0.979,\n",
       " 0.977,\n",
       " 0.977,\n",
       " 0.98,\n",
       " 0.978,\n",
       " 0.979,\n",
       " 0.979,\n",
       " 0.98,\n",
       " 0.978,\n",
       " 0.978,\n",
       " 0.979,\n",
       " 0.979,\n",
       " 0.978,\n",
       " 0.979,\n",
       " 0.978,\n",
       " 0.979,\n",
       " 0.98,\n",
       " 0.98,\n",
       " 0.979,\n",
       " 0.978,\n",
       " 0.979,\n",
       " 0.979,\n",
       " 0.978,\n",
       " 0.978,\n",
       " 0.978]"
      ]
     },
     "execution_count": 9,
     "metadata": {},
     "output_type": "execute_result"
    }
   ],
   "source": [
    "test_accuracy"
   ]
  },
  {
   "cell_type": "markdown",
   "metadata": {},
   "source": [
    "# Сохраняем данные для кагла"
   ]
  },
  {
   "cell_type": "markdown",
   "metadata": {},
   "source": [
    "https://www.kaggle.com/t/513ea517806348848dc78c4f41d44528"
   ]
  },
  {
   "cell_type": "markdown",
   "metadata": {},
   "source": [
    "Результат записывается в простой текстовый файл. Первая строчка \"Id,Prediction\", далее для каждого примера из валидационного множества записывается его Id (порядковый номер, с нуля) и вероятность принадлежности к классу '6', например '123,0.12'.\n",
    "\n",
    "Важно соблюдать тот же порядок следования элементов, что и в наборе данных. Нумерация id с 0"
   ]
  },
  {
   "cell_type": "code",
   "execution_count": 10,
   "metadata": {},
   "outputs": [],
   "source": [
    "X = test_no_lables['data'] / 255.\n",
    "X = np.hstack([ np.ones((X.shape[0], 1)), X] )\n",
    "\n",
    "Y_pred = np.dot(X, w)\n",
    "\n",
    "for i in range(Y_pred.shape[0]):\n",
    "    Y_pred[i] = 1./(1. + math.exp(-Y_pred[i]))\n",
    "\n",
    "with open('solution.csv', 'w') as fout:\n",
    "    print(\"Id,Prediction\", file=fout)\n",
    "    for i in range(X.shape[0]):\n",
    "        print(i, Y_pred[i], sep=',', file=fout)"
   ]
  },
  {
   "cell_type": "markdown",
   "metadata": {},
   "source": [
    "# Сдача"
   ]
  },
  {
   "cell_type": "markdown",
   "metadata": {},
   "source": [
    "1. Регистрируетесь на конкурс https://www.kaggle.com/t/34e77301ef914c5792e4f4306144a6b3 \n",
    "1. Преодолеваете \"Pass level\" baseline\n",
    "1. После того, как вы преодолеете baseline, присылайте ноутбук с решение по адресу **voropaev@corp.mail.ru**\n",
    "\n",
    "# Внимание\n",
    "- Тему письма писать в формате \"[МФТИ][1] Фамилия\"\n",
    "- Внутри писма прикрепляете файл ноутбука с именем <ваша фамилия>.ipynb"
   ]
  },
  {
   "cell_type": "code",
   "execution_count": null,
   "metadata": {},
   "outputs": [],
   "source": []
  }
 ],
 "metadata": {
  "kernelspec": {
   "display_name": "Python 3",
   "language": "python",
   "name": "python3"
  },
  "language_info": {
   "codemirror_mode": {
    "name": "ipython",
    "version": 3
   },
   "file_extension": ".py",
   "mimetype": "text/x-python",
   "name": "python",
   "nbconvert_exporter": "python",
   "pygments_lexer": "ipython3",
   "version": "3.7.0"
  }
 },
 "nbformat": 4,
 "nbformat_minor": 2
}
