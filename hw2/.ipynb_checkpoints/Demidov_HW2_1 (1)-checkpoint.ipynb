{
 "cells": [
  {
   "cell_type": "code",
   "execution_count": 2,
   "metadata": {},
   "outputs": [
    {
     "name": "stderr",
     "output_type": "stream",
     "text": [
      "C:\\Anaconda\\lib\\site-packages\\sklearn\\cross_validation.py:41: DeprecationWarning: This module was deprecated in version 0.18 in favor of the model_selection module into which all the refactored classes and functions are moved. Also note that the interface of the new CV iterators are different from that of this module. This module will be removed in 0.20.\n",
      "  \"This module will be removed in 0.20.\", DeprecationWarning)\n"
     ]
    }
   ],
   "source": [
    "import pickle\n",
    "import numpy as np\n",
    "import PIL.Image\n",
    "import itertools\n",
    "from IPython.core.display import Image, display\n",
    "import scipy.ndimage\n",
    "import random\n",
    "import numpy as np\n",
    "import matplotlib.pylab as plt\n",
    "import tqdm\n",
    "import math\n",
    "import time\n",
    "import sys\n",
    "from sklearn.cross_validation import train_test_split\n",
    "%matplotlib inline"
   ]
  },
  {
   "cell_type": "code",
   "execution_count": 3,
   "metadata": {},
   "outputs": [],
   "source": [
    "class OneHotEncoder:\n",
    "    def __init__(self):\n",
    "        self.transform_mapping = np.zeros((10,10))\n",
    "        for i in range(self.transform_mapping.shape[0]):\n",
    "            self.transform_mapping[i][i] = 1.0\n",
    "    def transform(self, y):\n",
    "        return self.transform_mapping[int(y)]"
   ]
  },
  {
   "cell_type": "code",
   "execution_count": 4,
   "metadata": {},
   "outputs": [],
   "source": [
    "def make_submission(X_test, net, fname=\"my_submission.csv\"):\n",
    "    with open(fname,'w') as fout:\n",
    "        fout.write('Id,Category')\n",
    "        for i in range(X_test.shape[0]):\n",
    "            y_h = net.Forward(np.matrix(X_test[i]).T)\n",
    "            y = np.argmax(y_h)\n",
    "            fout.write(\"\\n{},{}\".format(i, int(y)))"
   ]
  },
  {
   "cell_type": "code",
   "execution_count": 5,
   "metadata": {},
   "outputs": [],
   "source": [
    "def Compute_acc(X, Y, net):\n",
    "    acc = 0.0\n",
    "    for i in range(X.shape[0]):\n",
    "        y_h = net.Forward(np.matrix(X[i]).T)\n",
    "        y = np.argmax(y_h)\n",
    "        if(y == Y[i]):\n",
    "            acc += 1.0\n",
    "    return acc * 100/ Y.shape[0]"
   ]
  },
  {
   "cell_type": "code",
   "execution_count": 6,
   "metadata": {},
   "outputs": [],
   "source": [
    "def Compute_loss(X, Y, net, loss):\n",
    "    L = 0.0\n",
    "    for i in range(X.shape[0]):\n",
    "        y_r = np.matrix([float(j == int(Y[i])) for j in range(10)]).T\n",
    "        L += loss.Forward(net.Forward(np.matrix(X[i]).T), y_r)\n",
    "    return L / X.shape[0]"
   ]
  },
  {
   "cell_type": "code",
   "execution_count": 7,
   "metadata": {},
   "outputs": [],
   "source": [
    "class Dense:\n",
    "    \n",
    "    def __init__(self, size_in, size_out, lr, lmbd):\n",
    "        self.lr = lr\n",
    "        self.lmbd = lmbd\n",
    "        self.size_in = size_in\n",
    "        self.size_out = size_out\n",
    "        self.W = np.matrix(np.random.normal(scale=1, size=(size_in, size_out)) * np.sqrt(2/(size_in + size_out)))\n",
    "        self.bias = np.zeros((size_out, 1))\n",
    "            \n",
    "    def Forward(self, x):\n",
    "        self.x = x\n",
    "        return (np.dot(self.W.T, x) + self.bias)\n",
    "    \n",
    "    def Backward(self, delta):\n",
    "        W = self.W.copy()   \n",
    "        self.W -= ((self.x * delta.T) + self.lmbd * W ) * self.lr\n",
    "        self.bias -= delta * self.lr\n",
    "        return np.dot(W, delta)\n",
    "\n",
    "        "
   ]
  },
  {
   "cell_type": "code",
   "execution_count": 8,
   "metadata": {},
   "outputs": [],
   "source": [
    "class Softmax:\n",
    "    \n",
    "    def Forward(self, x):   \n",
    "        exps = np.exp(x - np.ones(x.shape) * x.max())\n",
    "        self.data = exps / np.sum(exps)\n",
    "        return self.data\n",
    "    \n",
    "    def Backward(self, delta): \n",
    "        return np.multiply(np.multiply(self.data, np.ones(self.data.shape) - self.data), delta)"
   ]
  },
  {
   "cell_type": "code",
   "execution_count": 9,
   "metadata": {},
   "outputs": [],
   "source": [
    "class ReLu:\n",
    "    \n",
    "    def Forward(self, x):        \n",
    "        self.mask = x.copy()\n",
    "        self.mask[self.mask >= 0] = 1\n",
    "        self.mask[self.mask < 0] = 0  \n",
    "        return np.multiply(self.mask, x)\n",
    "    \n",
    "    def Backward(self, delta):        \n",
    "        return np.multiply(self.mask, delta)"
   ]
  },
  {
   "cell_type": "code",
   "execution_count": 10,
   "metadata": {},
   "outputs": [],
   "source": [
    "class CrossEntropy:\n",
    "    \n",
    "    def Forward(self, y, y_r):        \n",
    "        self.y = y.copy()\n",
    "        self.y_r = y_r.copy()\n",
    "        return -np.sum(np.multiply(y_r, np.log(y)))\n",
    "                \n",
    "    def Backward(self): \n",
    "        back = self.y_r.copy()\n",
    "        for i in range(back.shape[0]):\n",
    "            if self.y_r[i, 0] == 1.:\n",
    "                back[i, 0] = - 1. / self.y[i, 0]\n",
    "            else:\n",
    "                back[i, 0] = 1. / (1. - self.y[i, 0])\n",
    "        return back"
   ]
  },
  {
   "cell_type": "code",
   "execution_count": 11,
   "metadata": {},
   "outputs": [],
   "source": [
    "class MnistNet:\n",
    "    \n",
    "    def __init__(self, lr1, lr2, lmbd1, lmbd2, loss):\n",
    "        self.d1 = Dense(784, 100, lr1, lmbd1)\n",
    "        self.r = ReLu()\n",
    "        self.d2 = Dense(100, 10, lr2, lmbd2)\n",
    "        self.s = Softmax()\n",
    "        self.l = loss\n",
    "    \n",
    "    def Forward(self, x, y_r = np.ones((10, 1))):\n",
    "        y = self.s.Forward(self.d2.Forward(self.r.Forward(self.d1.Forward(x))))\n",
    "        self.l.Forward(y, y_r)\n",
    "        return y\n",
    "                        \n",
    "    def Backward(self):\n",
    "        self.d1.Backward(self.r.Backward(self.d2.Backward(self.s.Backward(self.l.Backward()))))"
   ]
  },
  {
   "cell_type": "code",
   "execution_count": 12,
   "metadata": {},
   "outputs": [],
   "source": [
    "train_data = None\n",
    "test_data = None\n",
    "encoder = OneHotEncoder()\n",
    "with open('data_train.pickle','rb') as fin:\n",
    "    train_data = pickle.load(fin)\n",
    "with open('data_test_no_labels.pickle','rb') as fin:\n",
    "    test_data = pickle.load(fin)\n",
    "\n",
    "X_train, X_test, Y_train, Y_test \\\n",
    "= train_test_split((train_data['data'] - np.mean(train_data['data']))/ (np.std(train_data['data']) + 10 ** (-2)),\\\n",
    "                   train_data['target'], test_size = 0.15, random_state=10)\n",
    "\n",
    "X_test_norm = (test_data['data'] - np.mean(test_data['data']))/ (np.std(test_data['data']) + 10 ** (-2))"
   ]
  },
  {
   "cell_type": "code",
   "execution_count": 13,
   "metadata": {},
   "outputs": [],
   "source": [
    "learning_rate_1 = 10 ** (-3)\n",
    "learning_rate_2 = 10 ** (-3)\n",
    "regularization_1 = 10 ** (-5)\n",
    "regularization_2 = 10 ** (-5)\n",
    "loss = CrossEntropy()\n",
    "\n",
    "net = MnistNet(learning_rate_1, learning_rate_2, regularization_1, regularization_2, loss)"
   ]
  },
  {
   "cell_type": "code",
   "execution_count": 14,
   "metadata": {},
   "outputs": [],
   "source": [
    "acc_train = []\n",
    "acc_test = []\n",
    "L_test = []\n",
    "L_train = []\n",
    "size = 0"
   ]
  },
  {
   "cell_type": "code",
   "execution_count": null,
   "metadata": {},
   "outputs": [],
   "source": [
    "num_of_epoch = 6\n",
    "\n",
    "for epoch in range(num_of_epoch):\n",
    "    for k in range(X_train.shape[0]):\n",
    "        i = np.random.randint(0, X_train.shape[0])\n",
    "        y_r = np.matrix([float(j == int(Y_train[i])) for j in range(10)]).T        \n",
    "        y = net.Forward(np.matrix(X_train[i]).T, y_r)\n",
    "        net.Backward()\n",
    "    size += 1  \n",
    "    acc_train.append(Compute_acc(X_train, Y_train, net))\n",
    "    acc_test.append(Compute_acc(X_test, Y_test, net))\n",
    "    L_train.append(Compute_loss(X_train, Y_train, net, loss))\n",
    "    L_test.append(Compute_loss(X_test, Y_test, net, loss))\n",
    "    print('epoch = ', epoch)\n",
    "    print('acc train = ', round(acc_train[size - 1], 1))\n",
    "    print('acc test = ', round(acc_test[size - 1], 1))"
   ]
  },
  {
   "cell_type": "code",
   "execution_count": 18,
   "metadata": {},
   "outputs": [
    {
     "name": "stdout",
     "output_type": "stream",
     "text": [
      "acc train =  99.3\n",
      "acc test =  97.4\n"
     ]
    },
    {
     "data": {
      "image/png": "[encoded data removed]",
      "text/plain": [
       "<matplotlib.figure.Figure at 0x7f56244807b8>"
      ]
     },
     "metadata": {
      "needs_background": "light"
     },
     "output_type": "display_data"
    }
   ],
   "source": [
    "plt.title('Accuracy, %')\n",
    "plt.plot(acc_train, label='train')\n",
    "plt.plot(acc_test, label='test')\n",
    "plt.legend()\n",
    "\n",
    "print('acc train = ', round(acc_train[size - 1], 1))\n",
    "print('acc test = ', round(acc_test[size - 1], 1))"
   ]
  },
  {
   "cell_type": "code",
   "execution_count": 19,
   "metadata": {},
   "outputs": [
    {
     "name": "stdout",
     "output_type": "stream",
     "text": [
      "0.027\n",
      "0.094\n"
     ]
    },
    {
     "data": {
      "image/png": "[encoded data removed]",
      "text/plain": [
       "<matplotlib.figure.Figure at 0x7f56243dacf8>"
      ]
     },
     "metadata": {
      "needs_background": "light"
     },
     "output_type": "display_data"
    }
   ],
   "source": [
    "plt.title('Loss')\n",
    "plt.plot(L_train, label='train')\n",
    "plt.plot(L_test, label='test')\n",
    "plt.legend()\n",
    "\n",
    "print(round(L_train[size - 1], 3))\n",
    "print(round(L_test[size - 1], 3))"
   ]
  },
  {
   "cell_type": "code",
   "execution_count": 207,
   "metadata": {},
   "outputs": [],
   "source": [
    "make_submission(X_test_norm, net)"
   ]
  }
 ],
 "metadata": {
  "kernelspec": {
   "display_name": "Python 3",
   "language": "python",
   "name": "python3"
  },
  "language_info": {
   "codemirror_mode": {
    "name": "ipython",
    "version": 3
   },
   "file_extension": ".py",
   "mimetype": "text/x-python",
   "name": "python",
   "nbconvert_exporter": "python",
   "pygments_lexer": "ipython3",
   "version": "3.7.0"
  }
 },
 "nbformat": 4,
 "nbformat_minor": 2
}
