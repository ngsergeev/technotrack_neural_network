{
 "cells": [
  {
   "cell_type": "code",
   "execution_count": 1,
   "metadata": {},
   "outputs": [
    {
     "name": "stderr",
     "output_type": "stream",
     "text": [
      "C:\\Anaconda\\lib\\site-packages\\sklearn\\cross_validation.py:41: DeprecationWarning: This module was deprecated in version 0.18 in favor of the model_selection module into which all the refactored classes and functions are moved. Also note that the interface of the new CV iterators are different from that of this module. This module will be removed in 0.20.\n",
      "  \"This module will be removed in 0.20.\", DeprecationWarning)\n"
     ]
    }
   ],
   "source": [
    "import pickle\n",
    "import numpy as np\n",
    "import PIL.Image\n",
    "import itertools\n",
    "from IPython.core.display import Image, display\n",
    "import scipy.ndimage\n",
    "import random\n",
    "import numpy as np\n",
    "import matplotlib.pylab as plt\n",
    "import tqdm\n",
    "import math\n",
    "import time\n",
    "import sys\n",
    "from sklearn.cross_validation import train_test_split\n",
    "%matplotlib inline"
   ]
  },
  {
   "cell_type": "code",
   "execution_count": 2,
   "metadata": {},
   "outputs": [],
   "source": [
    "class OneHotEncoder: #хуйня преобразует числа в вероятностные векторы\n",
    "    def __init__(self):\n",
    "        self.transform_mapping = np.zeros((10,10))\n",
    "        for i in range(self.transform_mapping.shape[0]):\n",
    "            self.transform_mapping[i][i] = 1.0\n",
    "    def transform(self, y):\n",
    "        return self.transform_mapping[int(y)]"
   ]
  },
  {
   "cell_type": "code",
   "execution_count": 3,
   "metadata": {},
   "outputs": [],
   "source": [
    "def make_submission(X_test, net, fname=\"my_submission.csv\"):\n",
    "    with open(fname,'w') as fout:\n",
    "        fout.write('Id,Category')\n",
    "        for i in range(X_test.shape[0]):\n",
    "            y_h = net.Forward(np.matrix(X_test[i]).T)\n",
    "            y = np.argmax(y_h)\n",
    "            fout.write(\"\\n{},{}\".format(i, int(y)))"
   ]
  },
  {
   "cell_type": "code",
   "execution_count": 22,
   "metadata": {},
   "outputs": [],
   "source": [
    "def Compute_acc(X, Y, net):\n",
    "    acc = 0.0\n",
    "    for i in range(X.shape[0]):\n",
    "        y_h = net.Forward(np.matrix(X[i]).T)\n",
    "        y = np.argmax(y_h)\n",
    "        if(y == Y[i]):\n",
    "            acc += 1.0\n",
    "    return acc * 100/ Y.shape[0]"
   ]
  },
  {
   "cell_type": "code",
   "execution_count": 23,
   "metadata": {},
   "outputs": [],
   "source": [
    "def Compute_loss(X, Y, net, loss):\n",
    "    L = 0.0\n",
    "    for i in range(X.shape[0]):\n",
    "        y_r = np.matrix([float(j == int(Y[i])) for j in range(10)]).T\n",
    "        L += loss.Forward(net.Forward(np.matrix(X[i]).T), y_r)\n",
    "    return L / X.shape[0]"
   ]
  },
  {
   "cell_type": "code",
   "execution_count": 24,
   "metadata": {},
   "outputs": [],
   "source": [
    "class Dense:\n",
    "    \n",
    "    def __init__(self, size_in, size_out, lr, lmbd):\n",
    "        self.lr = lr\n",
    "        self.lmbd = lmbd\n",
    "        self.size_in = size_in\n",
    "        self.size_out = size_out\n",
    "        self.W = np.matrix(np.random.normal(scale=1, size=(size_in, size_out)) * np.sqrt(2/(size_in + size_out)))\n",
    "        self.b = np.zeros((size_out, 1))\n",
    "            \n",
    "    def Forward(self, x):\n",
    "        self.x = x\n",
    "        return (np.dot(self.W.T, x) + self.b)\n",
    "    \n",
    "    def Backward(self, delta):\n",
    "        W = self.W.copy() \n",
    "        self.dW = ((self.x * delta.T) + self.lmbd * W )\n",
    "        self.W -= self.dW * self.lr\n",
    "        self.db = delta\n",
    "        self.b -= self.db * self.lr\n",
    "        self.dx = np.dot(W, delta)\n",
    "        return self.dx\n",
    "\n",
    "        "
   ]
  },
  {
   "cell_type": "code",
   "execution_count": 25,
   "metadata": {},
   "outputs": [],
   "source": [
    "class Softmax:\n",
    "    \n",
    "    def Forward(self, x):   \n",
    "        exps = np.exp(x - np.ones(x.shape) * x.max())\n",
    "        self.data = exps / np.sum(exps)\n",
    "        return self.data\n",
    "    \n",
    "    def Backward(self, delta): \n",
    "        back = np.multiply(self.data.T, (np.eye(delta.shape[0], delta.shape[0]) - self.data))\n",
    "        return np.dot(back, delta)"
   ]
  },
  {
   "cell_type": "code",
   "execution_count": 26,
   "metadata": {},
   "outputs": [],
   "source": [
    "class ReLu:\n",
    "    \n",
    "    def Forward(self, x):        \n",
    "        self.mask = x.copy()\n",
    "        self.mask[self.mask >= 0] = 1\n",
    "        self.mask[self.mask < 0] = 0  \n",
    "        return np.multiply(self.mask, x)\n",
    "    \n",
    "    def Backward(self, delta):        \n",
    "        return np.multiply(self.mask, delta)"
   ]
  },
  {
   "cell_type": "code",
   "execution_count": 27,
   "metadata": {},
   "outputs": [],
   "source": [
    "class CrossEntropy:\n",
    "    \n",
    "    def Forward(self, y, y_r):        \n",
    "        self.y = y.copy()\n",
    "        self.y_r = y_r.copy()\n",
    "        return -np.sum(np.multiply(y_r, np.log(y)))\n",
    "                \n",
    "    def Backward(self): \n",
    "        return -self.y_r / self.y"
   ]
  },
  {
   "cell_type": "markdown",
   "metadata": {},
   "source": [
    "# Проверка слоев сети"
   ]
  },
  {
   "cell_type": "markdown",
   "metadata": {},
   "source": [
    "В сети используются np.matrix вместо np.array, размеры соответственно (size_y, 1) вместо (size_y, ).\n",
    "Так же в слое Dense параметр W совпадает с тем, который используется в лекции, с точностью до транспонирования."
   ]
  },
  {
   "cell_type": "markdown",
   "metadata": {},
   "source": [
    "## Проверка Dense"
   ]
  },
  {
   "cell_type": "code",
   "execution_count": 28,
   "metadata": {},
   "outputs": [
    {
     "name": "stdout",
     "output_type": "stream",
     "text": [
      "z.T =  [[ 1.22  0.76]] must be [[ 1.22  0.76]] diff =  [[ 0.  0.]]\n",
      "dx.T =  [[-0.112  0.636]] must be [[-0.112  0.636]] diff =  [[  1.38777878e-17   0.00000000e+00]]\n",
      "W.T\n",
      " [[ 0.099912    0.499824  ]\n",
      " [-0.300104    0.79979199]]\n",
      "dW.T:\n",
      " [[ 0.088001  0.176005]\n",
      " [ 0.103997  0.208008]]\n",
      "db.T:\n",
      " [[ 0.44  0.52]]\n",
      "dx.T:\n",
      " [[-0.112  0.636]]\n"
     ]
    }
   ],
   "source": [
    "d = Dense(2, 2, 10 **(-3), 10 **(-5))\n",
    "x = np.matrix([0.2, 0.4]).T\n",
    "d.W = np.matrix([[0.1, 0.5], [-0.3, 0.8]]).T\n",
    "d.b = np.matrix([1, 0.5]).T\n",
    "dz = np.matrix([0.44, 0.52]).T\n",
    "\n",
    "z = d.Forward(x)\n",
    "z_orig = np.matrix([1.22, 0.76]).T\n",
    "print('z.T = ',z.T, 'must be', z_orig.T, 'diff = ', (z-z_orig).T)\n",
    "\n",
    "dx = d.Backward(dz)\n",
    "dx_orig = np.matrix([-0.112, 0.636]).T\n",
    "print('dx.T = ', dx.T, 'must be', dx_orig.T, 'diff = ', (dx-dx_orig).T)\n",
    "\n",
    "print('W.T\\n', d.W.T)\n",
    "print('dW.T:\\n', d.dW.T)\n",
    "print('db.T:\\n', d.db.T)\n",
    "print('dx.T:\\n', d.dx.T)"
   ]
  },
  {
   "cell_type": "code",
   "execution_count": 29,
   "metadata": {},
   "outputs": [
    {
     "name": "stdout",
     "output_type": "stream",
     "text": [
      "(2, 1) must be (2, 1)\n",
      "(3, 1) must be (3, 1)\n"
     ]
    }
   ],
   "source": [
    "# Проверяем, что размерности соблюдаются правильно\n",
    "d = Dense(3, 2, 10 ** (-3), 10 **(-5))\n",
    "x = np.matrix([0.1, 0.2, 0.3]).T\n",
    "r = d.Forward(x)\n",
    "print(r.shape, 'must be', (2,1))\n",
    "dz = np.matrix([0.4, 0.5]).T\n",
    "dz = d.Backward(dz)\n",
    "print(dz.shape, 'must be', (3,1))"
   ]
  },
  {
   "cell_type": "markdown",
   "metadata": {},
   "source": [
    "## Проверка Softmax"
   ]
  },
  {
   "cell_type": "code",
   "execution_count": 30,
   "metadata": {},
   "outputs": [
    {
     "name": "stdout",
     "output_type": "stream",
     "text": [
      "sm\n",
      "[[ 0.5005]\n",
      " [ 0.4995]]\n",
      "must be\n",
      "[[ 0.5005]\n",
      " [ 0.4995]]\n",
      "dz\n",
      "[[ 0.4999995]\n",
      " [-0.4999995]]\n"
     ]
    }
   ],
   "source": [
    "x = np.matrix([0.001, -0.001]).T\n",
    "s = Softmax()\n",
    "sm = s.Forward(x)\n",
    "print('sm')\n",
    "print(sm)\n",
    "print('must be')\n",
    "print(np.matrix([np.exp(0.001) / (np.exp(0.001) + np.exp(-0.001)),\\\n",
    "                 np.exp(-0.001) / (np.exp(0.001) + np.exp(-0.001))]).T)\n",
    "dz = np.matrix([0, -2.]).T\n",
    "print('dz')\n",
    "print(s.Backward(dz))"
   ]
  },
  {
   "cell_type": "code",
   "execution_count": 31,
   "metadata": {},
   "outputs": [],
   "source": [
    "class MnistNet:\n",
    "    \n",
    "    def __init__(self, lr1, lr2, lmbd1, lmbd2, loss):\n",
    "        self.d1 = Dense(784, 100, lr1, lmbd1)\n",
    "        self.r = ReLu()\n",
    "        self.d2 = Dense(100, 10, lr2, lmbd2)\n",
    "        self.s = Softmax()\n",
    "        self.l = loss\n",
    "    \n",
    "    def Forward(self, x, y_r = np.ones((10, 1))):\n",
    "        y = self.s.Forward(self.d2.Forward(self.r.Forward(self.d1.Forward(x))))\n",
    "        self.l.Forward(y, y_r)\n",
    "        return y\n",
    "                        \n",
    "    def Backward(self):\n",
    "        self.d1.Backward(self.r.Backward(self.d2.Backward(self.s.Backward(self.l.Backward()))))"
   ]
  },
  {
   "cell_type": "code",
   "execution_count": 32,
   "metadata": {},
   "outputs": [],
   "source": [
    "train_data = None\n",
    "test_data = None\n",
    "encoder = OneHotEncoder()\n",
    "with open('data_train.pickle','rb') as fin:\n",
    "    train_data = pickle.load(fin)\n",
    "with open('data_test_no_labels.pickle','rb') as fin:\n",
    "    test_data = pickle.load(fin)\n",
    "\n",
    "X_train, X_test, Y_train, Y_test \\\n",
    "= train_test_split((train_data['data'] - np.mean(train_data['data']))/ (np.std(train_data['data']) + 10 ** (-2)),\\\n",
    "                   train_data['target'], test_size = 0.15, random_state=10)\n",
    "\n",
    "X_test_norm = (test_data['data'] - np.mean(test_data['data']))/ (np.std(test_data['data']) + 10 ** (-2))"
   ]
  },
  {
   "cell_type": "code",
   "execution_count": 33,
   "metadata": {},
   "outputs": [],
   "source": [
    "learning_rate_1 = 10 ** (-3)\n",
    "learning_rate_2 = 10 ** (-3)\n",
    "regularization_1 = 10 ** (-5)\n",
    "regularization_2 = 10 ** (-5)\n",
    "loss = CrossEntropy()\n",
    "\n",
    "net = MnistNet(learning_rate_1, learning_rate_2, regularization_1, regularization_2, loss)"
   ]
  },
  {
   "cell_type": "code",
   "execution_count": 34,
   "metadata": {},
   "outputs": [],
   "source": [
    "acc_train = []\n",
    "acc_test = []\n",
    "L_test = []\n",
    "L_train = []\n",
    "size = 0"
   ]
  },
  {
   "cell_type": "code",
   "execution_count": 35,
   "metadata": {},
   "outputs": [
    {
     "name": "stdout",
     "output_type": "stream",
     "text": [
      "epoch =  0\n",
      "acc train =  95.2\n",
      "acc test =  94.7\n",
      "epoch =  1\n",
      "acc train =  96.5\n",
      "acc test =  95.8\n",
      "epoch =  2\n",
      "acc train =  97.4\n",
      "acc test =  96.3\n",
      "epoch =  3\n",
      "acc train =  98.0\n",
      "acc test =  96.9\n",
      "epoch =  4\n",
      "acc train =  98.3\n",
      "acc test =  96.8\n",
      "epoch =  5\n",
      "acc train =  98.5\n",
      "acc test =  96.8\n",
      "epoch =  6\n",
      "acc train =  98.9\n",
      "acc test =  97.3\n",
      "epoch =  7\n",
      "acc train =  99.0\n",
      "acc test =  97.2\n",
      "epoch =  8\n",
      "acc train =  99.2\n",
      "acc test =  97.2\n",
      "epoch =  9\n",
      "acc train =  99.3\n",
      "acc test =  97.2\n"
     ]
    }
   ],
   "source": [
    "num_of_epoch = 10\n",
    "\n",
    "for epoch in range(num_of_epoch):\n",
    "    for k in range(X_train.shape[0]):\n",
    "        i = np.random.randint(0, X_train.shape[0])\n",
    "        y_r = np.matrix([float(j == int(Y_train[i])) for j in range(10)]).T        \n",
    "        y = net.Forward(np.matrix(X_train[i]).T, y_r)\n",
    "        net.Backward()\n",
    "    size += 1  \n",
    "    acc_train.append(Compute_acc(X_train, Y_train, net))\n",
    "    acc_test.append(Compute_acc(X_test, Y_test, net))\n",
    "    L_train.append(Compute_loss(X_train, Y_train, net, loss))\n",
    "    L_test.append(Compute_loss(X_test, Y_test, net, loss))\n",
    "    print('epoch = ', epoch)\n",
    "    print('acc train = ', round(acc_train[size - 1], 1))\n",
    "    print('acc test = ', round(acc_test[size - 1], 1))"
   ]
  },
  {
   "cell_type": "code",
   "execution_count": 36,
   "metadata": {},
   "outputs": [
    {
     "name": "stdout",
     "output_type": "stream",
     "text": [
      "acc train =  99.3\n",
      "acc test =  97.2\n"
     ]
    },
    {
     "data": {
      "image/png": "[encoded data removed]",
      "text/plain": [
       "<matplotlib.figure.Figure at 0x7f9ceca88908>"
      ]
     },
     "metadata": {
      "needs_background": "light"
     },
     "output_type": "display_data"
    }
   ],
   "source": [
    "plt.title('Accuracy, %')\n",
    "plt.plot(acc_train, label='train')\n",
    "plt.plot(acc_test, label='test')\n",
    "plt.legend()\n",
    "\n",
    "print('acc train = ', round(acc_train[size - 1], 1))\n",
    "print('acc test = ', round(acc_test[size - 1], 1))"
   ]
  },
  {
   "cell_type": "code",
   "execution_count": 37,
   "metadata": {},
   "outputs": [
    {
     "name": "stdout",
     "output_type": "stream",
     "text": [
      "0.028\n",
      "0.099\n"
     ]
    },
    {
     "data": {
      "image/png": "[encoded data removed]",
      "text/plain": [
       "<matplotlib.figure.Figure at 0x7f9ce9a87198>"
      ]
     },
     "metadata": {
      "needs_background": "light"
     },
     "output_type": "display_data"
    }
   ],
   "source": [
    "plt.title('Loss')\n",
    "plt.plot(L_train, label='train')\n",
    "plt.plot(L_test, label='test')\n",
    "plt.legend()\n",
    "\n",
    "print(round(L_train[size - 1], 3))\n",
    "print(round(L_test[size - 1], 3))"
   ]
  },
  {
   "cell_type": "code",
   "execution_count": 38,
   "metadata": {},
   "outputs": [],
   "source": [
    "make_submission(X_test_norm, net)"
   ]
  }
 ],
 "metadata": {
  "kernelspec": {
   "display_name": "Python 3",
   "language": "python",
   "name": "python3"
  },
  "language_info": {
   "codemirror_mode": {
    "name": "ipython",
    "version": 3
   },
   "file_extension": ".py",
   "mimetype": "text/x-python",
   "name": "python",
   "nbconvert_exporter": "python",
   "pygments_lexer": "ipython3",
   "version": "3.7.0"
  }
 },
 "nbformat": 4,
 "nbformat_minor": 2
}
