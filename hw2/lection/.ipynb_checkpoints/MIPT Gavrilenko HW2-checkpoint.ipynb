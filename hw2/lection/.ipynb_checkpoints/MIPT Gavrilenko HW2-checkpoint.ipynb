{
 "cells": [
  {
   "cell_type": "code",
   "execution_count": 2,
   "metadata": {},
   "outputs": [],
   "source": [
    "import numpy as np\n",
    "import matplotlib.pyplot as plt\n",
    "import pickle\n",
    "import math\n",
    "from sklearn.cross_validation import train_test_split\n",
    "%matplotlib inline"
   ]
  },
  {
   "cell_type": "code",
   "execution_count": 3,
   "metadata": {},
   "outputs": [],
   "source": [
    "# класс one-hot encoder'а для MNIST\n",
    "class OneHotEncoder:\n",
    "    def __init__(self):\n",
    "        self.transform_mapping = np.zeros((10,10))\n",
    "        for i in range(self.transform_mapping.shape[0]):\n",
    "            self.transform_mapping[i][i] = 1.0\n",
    "    def transform(self, y):\n",
    "        return self.transform_mapping[int(y)]\n",
    "    "
   ]
  },
  {
   "cell_type": "code",
   "execution_count": 4,
   "metadata": {},
   "outputs": [],
   "source": [
    "def make_submission(X_test, net, fname=\"my_submission.csv\"):\n",
    "    with open(fname,'w') as fout:\n",
    "        fout.write('Id,Category')\n",
    "        for i in range(X_test.shape[0]):\n",
    "            y_h = net.forward(X_test[i])\n",
    "            y = np.argmax(y_h)\n",
    "            fout.write(\"\\n{},{}\".format(i, int(y)))"
   ]
  },
  {
   "cell_type": "code",
   "execution_count": 5,
   "metadata": {},
   "outputs": [],
   "source": [
    "# внимание, тут Y_test в обычном формате(не onehot)\n",
    "def compute_acc(X_test, Y_test, net):\n",
    "    acc = 0.0\n",
    "    for i in range(X_test.shape[0]):\n",
    "        y_h = net.forward(X_test[i])\n",
    "        y = np.argmax(y_h)\n",
    "        if(y == Y_test[i]):\n",
    "            acc += 1.0\n",
    "    return acc / Y_test.shape[0]"
   ]
  },
  {
   "cell_type": "code",
   "execution_count": 6,
   "metadata": {},
   "outputs": [],
   "source": [
    "train_data = None\n",
    "test_data = None\n",
    "encoder = OneHotEncoder()\n",
    "with open('data_train.pickle','rb') as fin:\n",
    "    train_data = pickle.load(fin)\n",
    "with open('data_test_no_labels.pickle','rb') as fin:\n",
    "    test_data = pickle.load(fin)\n",
    "    \n",
    "Data_X = train_data['data']\n",
    "Data_Y = train_data['target']\n",
    "\n",
    "Data_X = (Data_X - np.mean(Data_X))/(np.std(Data_X) + 0.000001)\n",
    "\n",
    "#Data_Y = np.array(list(map(lambda x : encoder.transform(x), Data_Y)))\n",
    "\n",
    "x_train, x_test, y_train, y_test \\\n",
    "    = train_test_split(Data_X, Data_Y, test_size = 0.1, random_state=10)\n",
    "\n",
    "y_test_hot = np.array(list(map(lambda x : encoder.transform(x), y_test)))\n",
    "y_train_hot = np.array(list(map(lambda x : encoder.transform(x), y_train)))\n",
    "X_test = test_data['data']\n",
    "\n",
    "\n"
   ]
  },
  {
   "cell_type": "code",
   "execution_count": 7,
   "metadata": {},
   "outputs": [
    {
     "data": {
      "image/png": "[encoded data removed]",
      "text/plain": [
       "<Figure size 432x288 with 16 Axes>"
      ]
     },
     "metadata": {
      "needs_background": "light"
     },
     "output_type": "display_data"
    }
   ],
   "source": [
    "n=4\n",
    "for i in range(n*n):\n",
    "    plt.subplot(n,n,i+1)\n",
    "    I = train_data['data'][np.random.randint(0, x_train.shape[0]),:]\n",
    "    I = I.reshape((28, 28))\n",
    "    plt.imshow(I, cmap='gray')"
   ]
  },
  {
   "cell_type": "code",
   "execution_count": 8,
   "metadata": {},
   "outputs": [],
   "source": [
    "# Определение слоев сети\n",
    "# class Dense:\n",
    "# ...\n",
    "class Dense:\n",
    "    def __init__(self, in_size, out_size, rlambda = 0.0):\n",
    "        self.W = np.random.normal(scale=1, size=(out_size, in_size)) * np.sqrt(2/(out_size + in_size))\n",
    "        self.b = np.zeros(out_size)\n",
    "        self.rlambda = rlambda\n",
    "        \n",
    "    def forward(self, x):\n",
    "        self.x = x # запоминаем для обратного прохода\n",
    "        return (np.dot(self.W, x) + self.b)\n",
    "    \n",
    "    def get_reg_loss(self):\n",
    "        return 0.5 * self.rlambda * (np.linalg.norm(self.W, ord='fro') ** 2)\n",
    "    \n",
    "    def backward(self, dz, lr=0.001):\n",
    "        # вычисляем градиенты по параметрам (запоминаем их для отладки)\n",
    "        self.dW = np.outer(dz, self.x)\n",
    "        self.db = dz\n",
    "        # вычисляем производную по входу\n",
    "        self.dx = np.matmul(dz, self.W) \n",
    "        # рассчитываем градиенты от регуляризатора\n",
    "        if(self.rlambda != 0):\n",
    "            self.dW += self.rlambda * self.W\n",
    "        # обновляем веса\n",
    "        self.W = self.W - lr * self.dW\n",
    "        self.db = self.db - lr * self.db\n",
    "        # возвращаем dx для продолжения алгоритма\n",
    "        return self.dx"
   ]
  },
  {
   "cell_type": "code",
   "execution_count": 9,
   "metadata": {},
   "outputs": [],
   "source": [
    "class Max:\n",
    "    \n",
    "    def forward(self, x):\n",
    "        self.x = x\n",
    "        return np.maximum(0, x)\n",
    "    \n",
    "    def backward(self, dz, lr=0.1):\n",
    "        dz[self.x < 0] = 0\n",
    "        return dz"
   ]
  },
  {
   "cell_type": "code",
   "execution_count": 10,
   "metadata": {},
   "outputs": [],
   "source": [
    "class CrossEntropy:\n",
    "    \n",
    "    def forward(self, y_true, y_hat):\n",
    "        self.y_true = y_true\n",
    "        self.y_hat = y_hat\n",
    "        loss = 0.\n",
    "        for i in range(y_true.shape[0]):\n",
    "            loss+= - y_true[i] * math.log(y_hat[i])\n",
    "        return loss\n",
    "    \n",
    "    def backward(self, dz, lr=0.001):\n",
    "        loss = []\n",
    "        loss_value = 0.\n",
    "        for i in range(self.y_true.shape[0]):\n",
    "            loss_value = -dz * self.y_true[i] / (self.y_hat[i])\n",
    "            loss.append(loss_value)\n",
    "        return loss"
   ]
  },
  {
   "cell_type": "code",
   "execution_count": 11,
   "metadata": {},
   "outputs": [],
   "source": [
    "class Softmax :\n",
    "    \n",
    "    def forward(self, x):\n",
    "        self.x = x\n",
    "        exps = np.exp(x)\n",
    "        return exps / np.sum(exps)\n",
    "    \n",
    "    def backward(self, dx, lr = 0.001):\n",
    "        sm = self.forward(self.x)\n",
    "        self.lp = (np.eye(sm.shape[0], sm.shape[0]) - sm).T\n",
    "        self.lp2 = sm * self.lp\n",
    "        return np.dot(dz, self.lp2)"
   ]
  },
  {
   "cell_type": "code",
   "execution_count": 12,
   "metadata": {},
   "outputs": [],
   "source": [
    "# class Dropout:\n",
    "#     def __init__(self, p = 0.5):\n",
    "#         self.p = p\n",
    "#         self.train = True\n",
    "    \n",
    "#     def set_train(self, train = True):\n",
    "#         self.train = train\n",
    "    \n",
    "#     def forward(self, x):\n",
    "#         if not self.train:\n",
    "#             self.mask = np.ones(*x.shape)\n",
    "#             return x\n",
    "#         self.mask = ( np.random.rand(*x.shape) > self.p ) / (1.0 - self.p)\n",
    "#         return x * self.mask\n",
    "        \n",
    "#     def backward(self, dz, lr=0.001):\n",
    "#         return dz * self.mask"
   ]
  },
  {
   "cell_type": "code",
   "execution_count": 13,
   "metadata": {},
   "outputs": [],
   "source": [
    "# Опеределение самой сети\n",
    "# class MnistNet:\n",
    "\n",
    "class MnistNet:\n",
    "    \n",
    "    def __init__(self, rlambda=0.0):\n",
    "        self.d1 = Dense(784, 50, rlambda)\n",
    "        self.m = Max()\n",
    "        self.d2 = Dense(50, 10, rlambda)\n",
    "        self.s = Softmax()\n",
    "    \n",
    "    def forward(self, x):\n",
    "        net = self.d1.forward(x)\n",
    "        net = self.m.forward(net)\n",
    "        net = self.d2.forward(net)\n",
    "        net = self.s.forward(net)\n",
    "        return net\n",
    "    \n",
    "    def backward(self, dz, lr):\n",
    "        dz = self.s.backward(dz, lr)\n",
    "        dz = self.d2.backward(dz, lr)\n",
    "        dz = self.m.backward(dz, lr)\n",
    "        dz = self.d1.backward(dz, lr)\n",
    "        return dz"
   ]
  },
  {
   "cell_type": "code",
   "execution_count": null,
   "metadata": {},
   "outputs": [
    {
     "name": "stdout",
     "output_type": "stream",
     "text": [
      "0 iter loss. Train : 0.29906344027081777 . Test : 0.18949789411209408\n",
      "1 iter loss. Train : 0.1634776934618 . Test : 0.14632673081740719\n",
      "2 iter loss. Train : 0.12492297542965045 . Test : 0.14195647344878914\n"
     ]
    }
   ],
   "source": [
    "# Здесь процедура обучения\n",
    "# net = MnistNet()\n",
    "# loss = CrossEntropy()\n",
    "#...\n",
    "net = MnistNet(0.0001)\n",
    "loss = CrossEntropy()\n",
    "lr = 0.001\n",
    "L_train = []\n",
    "L_test = []\n",
    "acc_train = []\n",
    "acc_test = []\n",
    "acc_tr = []\n",
    "acc_tst = []\n",
    "\n",
    "for iter in range(5):\n",
    "    L_acc = 0.\n",
    "    sh = list(range(x_train.shape[0])) # больше рандома богу рандома\n",
    "    np.random.shuffle(sh)\n",
    "    for i in range(x_train.shape[0]):\n",
    "        x = x_train[sh[i]]\n",
    "        y = y_train_hot[sh[i]]\n",
    "        y_h = net.forward(x)\n",
    "        L = loss.forward(y, y_h) #+ net.get_reg_loss()\n",
    "        L_acc += L \n",
    "        dz = loss.backward(1, lr)\n",
    "        dz = net.backward(dz, lr)\n",
    "    L_acc /= y_train_hot.shape[0]\n",
    "    L_train.append(L_acc)\n",
    "    \n",
    "    L_e_acc = 0.\n",
    "    \n",
    "    for i in range(x_test.shape[0]):\n",
    "        x = x_test[i]\n",
    "        y = y_test_hot[i]\n",
    "        y_h = net.forward(x)\n",
    "        L = loss.forward(y, y_h) #+ net.get_reg_loss()\n",
    "        L_e_acc += L\n",
    "        \n",
    "    acc_tr, acc_tst = [compute_acc(x_train, y_train, net), compute_acc(x_test, y_test, net)]\n",
    "    acc_train.append(acc_tr)\n",
    "    acc_test.append(acc_tst)\n",
    "    L_e_acc /= y_test.shape[0]\n",
    "    L_test.append(L_e_acc)\n",
    "    print(\"{} iter loss. Train : {} . Test : {}\".format(iter, L_acc, L_e_acc))"
   ]
  },
  {
   "cell_type": "code",
   "execution_count": 15,
   "metadata": {},
   "outputs": [],
   "source": [
    "\n",
    "X_test = test_data['data']\n",
    "X_test_norm = (X_test - np.mean(Data_X))/(np.std(Data_X) + 0.000001)\n",
    "np.random.shuffle(X_test)\n"
   ]
  },
  {
   "cell_type": "code",
   "execution_count": 17,
   "metadata": {},
   "outputs": [
    {
     "data": {
      "text/plain": [
       "<matplotlib.legend.Legend at 0x7f97be35f550>"
      ]
     },
     "execution_count": 17,
     "metadata": {},
     "output_type": "execute_result"
    },
    {
     "data": {
      "image/png": "[encoded data removed]",
      "text/plain": [
       "<Figure size 432x288 with 1 Axes>"
      ]
     },
     "metadata": {},
     "output_type": "display_data"
    }
   ],
   "source": [
    "# Здесь необходимо отрисовать графики CrossEntropyLoss для обучающей и валидационной выборок\n",
    "# plot(L_train, label=\"train\")\n",
    "# ...\n",
    "\n",
    "x = range(0,5)\n",
    "\n",
    "plt.title('Loss')\n",
    "plt.plot(x, L_train, label='train')\n",
    "plt.plot(x, L_test, label='test')\n",
    "plt.legend()"
   ]
  },
  {
   "cell_type": "code",
   "execution_count": 18,
   "metadata": {},
   "outputs": [
    {
     "data": {
      "text/plain": [
       "<matplotlib.legend.Legend at 0x7f97be2740f0>"
      ]
     },
     "execution_count": 18,
     "metadata": {},
     "output_type": "execute_result"
    },
    {
     "data": {
      "image/png": "[encoded data removed]",
      "text/plain": [
       "<Figure size 432x288 with 1 Axes>"
      ]
     },
     "metadata": {},
     "output_type": "display_data"
    }
   ],
   "source": [
    "\n",
    "\n",
    "plt.title('Accuracy')\n",
    "plt.plot(x, acc_train, label='train')\n",
    "plt.plot(x, acc_test, label='test')\n",
    "plt.legend()"
   ]
  },
  {
   "cell_type": "code",
   "execution_count": 19,
   "metadata": {},
   "outputs": [
    {
     "name": "stderr",
     "output_type": "stream",
     "text": [
      "/home/agavrilenko/anaconda3/lib/python3.6/site-packages/ipykernel_launcher.py:6: RuntimeWarning: invalid value encountered in true_divide\n",
      "  \n"
     ]
    }
   ],
   "source": [
    "# формируем сабмишшен и заливаем его на kaggle\n",
    "make_submission(X_test_norm, net)"
   ]
  },
  {
   "cell_type": "code",
   "execution_count": null,
   "metadata": {},
   "outputs": [],
   "source": []
  }
 ],
 "metadata": {
  "kernelspec": {
   "display_name": "Python 3",
   "language": "python",
   "name": "python3"
  },
  "language_info": {
   "codemirror_mode": {
    "name": "ipython",
    "version": 3
   },
   "file_extension": ".py",
   "mimetype": "text/x-python",
   "name": "python",
   "nbconvert_exporter": "python",
   "pygments_lexer": "ipython3",
   "version": "3.7.0"
  }
 },
 "nbformat": 4,
 "nbformat_minor": 2
}
