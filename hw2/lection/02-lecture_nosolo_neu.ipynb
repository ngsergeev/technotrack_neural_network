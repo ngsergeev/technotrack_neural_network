{
 "cells": [
  {
   "cell_type": "markdown",
   "metadata": {},
   "source": [
    "# Персептрон и алгоритм обратного распространения ошибки.  "
   ]
  },
  {
   "cell_type": "markdown",
   "metadata": {},
   "source": [
    "Illustration of the Mark 1 perceptron hardware (1960).\n",
    "\n",
    "<img src=\"./imgs/0.png\">\n",
    "The photograph on the left shows how the inputs were obtained using a simple camera system in which an input scene, in this case a printed character, was illuminated by powerful lights, and an image focussed onto a 20 × 20 array of cadmium sulphide photocells, giving a primitive 400 pixel image. \n",
    "<img src=\"./imgs/1.png\">\n",
    "The perceptron also had a patch board, shown in the middle photograph,\n",
    "which allowed different configurations of input features to be tried. Often these were wired up at random to demonstrate the ability of the perceptron to learn without the need for precise wiring, in contrast to a modern digital computer. \n",
    "\n",
    "<img src=\"./imgs/2.png\">\n",
    "The photograph on the right shows one of the racks of adaptive weights. Each weight was\n",
    "implemented using a rotary variable resistor, also called a potentiometer, driven by an electric motor thereby\n",
    "allowing the value of the weight to be adjusted automatically by the learning algorithm.\n",
    "\n",
    "<img src=\"./imgs/2.jpg\">\n",
    "The Mark 1 Perceptron (Source: Arvin Calspan Advanced Technology Center; Hecht-Nielsen, R. Neurocomputing (Reading, Mass.: Addison-Wesley, 1990).)\n",
    "\n"
   ]
  },
  {
   "cell_type": "markdown",
   "metadata": {
    "collapsed": true
   },
   "source": [
    "# Многослойный перцептрон"
   ]
  },
  {
   "cell_type": "markdown",
   "metadata": {
    "collapsed": true
   },
   "source": [
    "<img src=\"./imgs/3.png\" width=400>"
   ]
  },
  {
   "cell_type": "markdown",
   "metadata": {},
   "source": [
    "$$\n",
    "\\large\n",
    "\\large OUT(x) = softmax(D_2(\\vec{x})) \\\\\n",
    "\\large D_2(\\vec{x}) = \\theta_2 + W_2 A_1(\\vec{x}) \\\\\n",
    "\\large A_1(x) = ReLU(0, D_1(\\vec{x})) \\\\\n",
    "\\large D_1(\\vec{x}) = \\theta_1 + W_1 \\vec{x}\n",
    "$$\n",
    "\n",
    "Каждая сеть представима в виде акцикличного графа вычислений над тензорами. **Тензор** - в случае нейронных сетей это просто многомерный массив. В узлах графа находятся функции, осуществляющие операции. В техминах нейронных сетей вычислительные узлы называют **слоями**. В данной сети есть слои следующих видов:\n",
    "- dense (D) - полносвязный слой\n",
    "- ReLU(0,x) - слой нелинейной активации\n",
    "- softmax - softmax \n",
    "- loss - функционал потерь, котороый тоже стоит рассматривать как слой.\n",
    "\n",
    "Обычно граф вычислений рисуется следующим образом"
   ]
  },
  {
   "cell_type": "markdown",
   "metadata": {},
   "source": [
    "<img src=\"./imgs/4.png\" width=700>"
   ]
  },
  {
   "cell_type": "markdown",
   "metadata": {},
   "source": [
    "Так как мы говорим про задачу многоклассовой классификации, то на выходе сети мы ожидаем набор вероятностей $p_i$, такие что $\\sum p_j = 1$. Для реализации этого используется softmax слой, физический смысл которого эквивалентен сигмойду в задаче бинарной классификации\n",
    "$$\n",
    "\\large softmax_i = p_i = \\frac{e^{a_i}}{\\sum_j e^{a_j}} \\\\\n",
    "$$"
   ]
  },
  {
   "cell_type": "markdown",
   "metadata": {},
   "source": [
    "# Loss функция"
   ]
  },
  {
   "cell_type": "markdown",
   "metadata": {},
   "source": [
    "Для того, чтобы получить loss функцию для нейронной сети, рассмотрим понятие перекрестной энтропии:\n",
    "$$\n",
    "\\large H(p, q) = \\operatorname{E}_p[-\\log q] = H(p) + D_{\\mathrm{KL}}(p \\| q)=-\\sum_x p(x)\\log q(x)\n",
    "$$\n",
    "где $D_{\\mathrm{KL}}(p||q)$ - расстояние Ку́льбака—Ле́йблера\n",
    "$$\n",
    "\\large D_{\\mathrm{KL}}(p||q)=\\sum \\limits _{i=1}^{n}p_{i}\\log {\\frac {p_{i}}{q_{i}}}\n",
    "$$\n",
    "Значение этого функционала можно понимать как количество неучтённой информации распределения $P$, если $Q$ было использовано для приближения $P$.\n",
    "\n",
    "Можно показать, что оптимизация кросс-энтропии в задаче многоклассовой оптимизации эквивалентно оптимизации правдоподобия.  Таким образом, loss для нашей сети будет:\n",
    "$$\n",
    "\\large L = -\\sum_i y_i \\log \\hat{y}_i\n",
    "$$"
   ]
  },
  {
   "cell_type": "markdown",
   "metadata": {},
   "source": [
    "# Концепция автоматического дифференцирования"
   ]
  },
  {
   "cell_type": "markdown",
   "metadata": {},
   "source": [
    "Давайте переместимся в слайды )\n",
    "<img src=\"./imgs/5.png\" width=700>"
   ]
  },
  {
   "cell_type": "markdown",
   "metadata": {},
   "source": [
    "# Обучаем персептрон"
   ]
  },
  {
   "cell_type": "markdown",
   "metadata": {},
   "source": [
    "Задача: нужно реализовать двухслойный персептрон и обучить его на наборе MNIST"
   ]
  },
  {
   "cell_type": "code",
   "execution_count": 3,
   "metadata": {},
   "outputs": [],
   "source": [
    "import numpy as np\n",
    "import matplotlib.pyplot as plt\n",
    "%matplotlib inline"
   ]
  },
  {
   "cell_type": "markdown",
   "metadata": {},
   "source": [
    "### Полносвязный слой (Dense)"
   ]
  },
  {
   "cell_type": "code",
   "execution_count": 4,
   "metadata": {},
   "outputs": [],
   "source": [
    "class Dense:\n",
    "    def __init__(self, in_size, out_size, rlambda = 0.0):\n",
    "        self.W = np.random.normal(scale=1, size=(out_size, in_size)) * np.sqrt(2 / in_size)\n",
    "        self.b = np.zeros(out_size)\n",
    "        self.rlambda = rlambda\n",
    "        \n",
    "    def forward(self, x):\n",
    "        self.x = x # запоминаем для обратного прохода\n",
    "        return np.dot(self.W, x) + self.b\n",
    "    \n",
    "    def get_reg_loss(self):\n",
    "        return 0.5 * self.rlambda * (np.linalg.norm(self.W, ord='fro') ** 2)\n",
    "    \n",
    "    def backward(self, dz, lr=0.001):\n",
    "        # вычисляем градиенты по параметрам (запоминаем их для отладки)\n",
    "        self.dW = np.outer(dz, self.x)\n",
    "        self.db = dz\n",
    "        # вычисляем производную по входу\n",
    "        self.dx = np.matmul(dz, self.W) \n",
    "        # рассчитываем градиенты от регуляризатора\n",
    "        if(self.rlambda != 0):\n",
    "            self.dW += self.rlambda * self.W\n",
    "        # обновляем веса\n",
    "        self.W = self.W - lr * self.dW\n",
    "        self.b = self.b - lr * self.db\n",
    "        # возвращаем dx для продолжения алгоритма\n",
    "        return self.dx"
   ]
  },
  {
   "cell_type": "markdown",
   "metadata": {},
   "source": [
    "Проверяем используя пример из слайдов"
   ]
  },
  {
   "cell_type": "code",
   "execution_count": 5,
   "metadata": {},
   "outputs": [
    {
     "name": "stdout",
     "output_type": "stream",
     "text": [
      "z =  [1.22 0.76] must be [1.22 0.76] diff =  [0. 0.]\n",
      "dx =  [-0.112  0.636] must be [-0.112  0.636] diff =  [1.38777878e-17 0.00000000e+00]\n",
      "W\n",
      " [[ 0.099912  0.499824]\n",
      " [-0.300104  0.799792]]\n",
      "dW:\n",
      " [[0.088 0.176]\n",
      " [0.104 0.208]]\n",
      "db:\n",
      " [0.44 0.52]\n",
      "dx:\n",
      " [-0.112  0.636]\n"
     ]
    }
   ],
   "source": [
    "d = Dense(2, 2)\n",
    "x = np.array([0.2, 0.4])\n",
    "d.W = np.array([[0.1, 0.5], [-0.3, 0.8]])\n",
    "d.b = np.array([1, 0.5])\n",
    "dz = np.array([0.44, 0.52])\n",
    "\n",
    "z = d.forward(x)\n",
    "z_orig = np.array([1.22, 0.76])\n",
    "print('z = ',z, 'must be', z_orig, 'diff = ', z-z_orig)\n",
    "\n",
    "dx = d.backward(dz)\n",
    "dx_orig = np.array([-0.112, 0.636])\n",
    "print('dx = ', dx, 'must be', dx_orig, 'diff = ', dx-dx_orig)\n",
    "\n",
    "print('W\\n', d.W)\n",
    "print('dW:\\n', d.dW)\n",
    "print('db:\\n', d.db)\n",
    "print('dx:\\n', d.dx)"
   ]
  },
  {
   "cell_type": "markdown",
   "metadata": {},
   "source": [
    "В слайдах у нас вход и выход слоя имеют одинаковую размерность. Давайте проверим, что для разных размеров все считается правильно."
   ]
  },
  {
   "cell_type": "code",
   "execution_count": 6,
   "metadata": {},
   "outputs": [
    {
     "name": "stdout",
     "output_type": "stream",
     "text": [
      "(2,) must be (2,)\n",
      "(3,) must be (3,)\n"
     ]
    }
   ],
   "source": [
    "# Проверяем, что размерности соблюдаются правильно\n",
    "d = Dense(3, 2)\n",
    "x = np.array([0.1, 0.2, 0.3])\n",
    "r = d.forward(x)\n",
    "print(r.shape, 'must be', (2,))\n",
    "dz = np.array([0.4, 0.5])\n",
    "dz = d.backward(dz)\n",
    "print(dz.shape, 'must be', (3,))"
   ]
  },
  {
   "cell_type": "markdown",
   "metadata": {},
   "source": [
    "### Нелинейная функция активации: ReLu"
   ]
  },
  {
   "cell_type": "markdown",
   "metadata": {},
   "source": [
    "$$\n",
    "ReLu = max(0, x)\n",
    "$$"
   ]
  },
  {
   "cell_type": "code",
   "execution_count": 7,
   "metadata": {},
   "outputs": [],
   "source": [
    "class ReLU:\n",
    "    \n",
    "    def forward(self, x):\n",
    "        self.x = x\n",
    "        return np.maximum(0, x)\n",
    "    \n",
    "    def backward(self, dz, lr=0.1):\n",
    "        dz[self.x < 0] = 0\n",
    "        return dz"
   ]
  },
  {
   "cell_type": "code",
   "execution_count": 8,
   "metadata": {},
   "outputs": [
    {
     "name": "stdout",
     "output_type": "stream",
     "text": [
      "[1 2 0 5 0 4]\n"
     ]
    }
   ],
   "source": [
    "import numpy as np\n",
    "print (np.maximum(0, [1, 2, -4, 5, -6, 4]))"
   ]
  },
  {
   "cell_type": "markdown",
   "metadata": {},
   "source": [
    "### Softmax"
   ]
  },
  {
   "cell_type": "markdown",
   "metadata": {},
   "source": [
    "$$\n",
    "\\frac {\\partial }{\\partial x_{k}}\\sigma_i (x) =\\sigma_i (x)(\\delta _{ik}-\\sigma_k (x))\n",
    "$$\n",
    "где $\\delta _{ik}$ это дельта Кронекера\n",
    "$$\n",
    "\\delta _{{ij}}={\\begin{cases}0&{\\text{if }}i\\neq j,\\\\1&{\\text{if }}i=j.\\end{cases}}\n",
    "$$"
   ]
  },
  {
   "cell_type": "code",
   "execution_count": 9,
   "metadata": {},
   "outputs": [],
   "source": [
    "class Softmax:\n",
    "    \n",
    "    def forward(self, x):\n",
    "        self.x = np.exp(x)/np.sum(np.exp(x))\n",
    "        return self.x \n",
    "    \n",
    "    def backward(self, dz, lr=0.00001):\n",
    "        g = np.multiply(self.x.T, np.eye(self.x.shape[0], self.x.shape[0])-self.x)\n",
    "        return np.dot(g, dz)"
   ]
  },
  {
   "cell_type": "code",
   "execution_count": 10,
   "metadata": {},
   "outputs": [
    {
     "name": "stdout",
     "output_type": "stream",
     "text": [
      "[0.5005 0.4995]\n",
      "dz [ 0.4990005 -0.4999995]\n"
     ]
    },
    {
     "ename": "AttributeError",
     "evalue": "'Softmax' object has no attribute 'lp'",
     "output_type": "error",
     "traceback": [
      "\u001b[1;31m---------------------------------------------------------------------------\u001b[0m",
      "\u001b[1;31mAttributeError\u001b[0m                            Traceback (most recent call last)",
      "\u001b[1;32m<ipython-input-10-02cbeef010ca>\u001b[0m in \u001b[0;36m<module>\u001b[1;34m()\u001b[0m\n\u001b[0;32m      6\u001b[0m \u001b[0mdz\u001b[0m \u001b[1;33m=\u001b[0m \u001b[0mnp\u001b[0m\u001b[1;33m.\u001b[0m\u001b[0marray\u001b[0m\u001b[1;33m(\u001b[0m\u001b[1;33m[\u001b[0m\u001b[1;36m0\u001b[0m\u001b[1;33m,\u001b[0m \u001b[1;33m-\u001b[0m\u001b[1;36m2.\u001b[0m\u001b[1;33m]\u001b[0m\u001b[1;33m)\u001b[0m\u001b[1;33m\u001b[0m\u001b[0m\n\u001b[0;32m      7\u001b[0m \u001b[0mprint\u001b[0m\u001b[1;33m(\u001b[0m\u001b[1;34m'dz'\u001b[0m\u001b[1;33m,\u001b[0m \u001b[0ms\u001b[0m\u001b[1;33m.\u001b[0m\u001b[0mbackward\u001b[0m\u001b[1;33m(\u001b[0m\u001b[0mdz\u001b[0m\u001b[1;33m)\u001b[0m\u001b[1;33m)\u001b[0m\u001b[1;33m\u001b[0m\u001b[0m\n\u001b[1;32m----> 8\u001b[1;33m \u001b[0mprint\u001b[0m\u001b[1;33m(\u001b[0m\u001b[0ms\u001b[0m\u001b[1;33m.\u001b[0m\u001b[0mlp\u001b[0m\u001b[1;33m)\u001b[0m\u001b[1;33m\u001b[0m\u001b[0m\n\u001b[0m\u001b[0;32m      9\u001b[0m \u001b[0mprint\u001b[0m\u001b[1;33m(\u001b[0m\u001b[0ms\u001b[0m\u001b[1;33m.\u001b[0m\u001b[0mlp2\u001b[0m\u001b[1;33m)\u001b[0m\u001b[1;33m\u001b[0m\u001b[0m\n",
      "\u001b[1;31mAttributeError\u001b[0m: 'Softmax' object has no attribute 'lp'"
     ]
    }
   ],
   "source": [
    "# Код для проверки\n",
    "x = np.array([0.001, -0.001])\n",
    "s = Softmax()\n",
    "sm = s.forward(x)\n",
    "print(sm)\n",
    "dz = np.array([0, -2.])\n",
    "print('dz', s.backward(dz))\n",
    "print(s.lp)\n",
    "print(s.lp2)"
   ]
  },
  {
   "cell_type": "markdown",
   "metadata": {},
   "source": [
    "### Loss: кросс-энтропия"
   ]
  },
  {
   "cell_type": "markdown",
   "metadata": {},
   "source": [
    "Напомню, кросс-энтропия выражается как\n",
    "$$\n",
    "L = -\\sum_i y_i \\log \\hat{y}_i\n",
    "$$\n",
    "\n",
    "Градиент вычисляется следующим образом:\n",
    "$$\n",
    "\\frac {\\partial }{\\partial \\hat{y}_{i}} L = -\\frac{y_i}{\\hat{y}_i}\n",
    "$$"
   ]
  },
  {
   "cell_type": "code",
   "execution_count": 43,
   "metadata": {},
   "outputs": [],
   "source": [
    "import math\n",
    "class CrossEntropy:\n",
    "    \n",
    "    def forward(self, y_true, y_hat):\n",
    "        self.y_true = y_true\n",
    "        self.y_hat = y_hat\n",
    "        loss = 0.\n",
    "        for i in range(y_true.shape[0]):\n",
    "            loss+= - y_true[i] * math.log(y_hat[i])\n",
    "        return loss\n",
    "    \n",
    "    def backward(self, dz, lr=0.001):\n",
    "        loss = []\n",
    "        loss_value = 0.\n",
    "        for i in range(self.y_true.shape[0]):\n",
    "            loss_value = -dz * self.y_true[i] / (self.y_hat[i])\n",
    "            loss.append(loss_value)\n",
    "        return loss"
   ]
  },
  {
   "cell_type": "markdown",
   "metadata": {},
   "source": [
    "### Инициализация параметров сети"
   ]
  },
  {
   "cell_type": "markdown",
   "metadata": {},
   "source": [
    "На практике часто используют, так называемое, правило Kaiming He:\n",
    "$$\n",
    "W \\sim N(0,\\sqrt{\\frac{2}{n_{in}}})\n",
    "$$\n",
    "\n",
    "Почему так:\n",
    "$$\n",
    "Y = W_1X_1 + W_2X_2 + ... + W_nX_n\n",
    "$$\n",
    "\n",
    "$$\n",
    "\\text{Var}(W_iX_i) = E[X_i]^2 \\text{Var}(W_i) + E[W_i]^2 \\text{Var}(X_i) + \\text{Var}(W_i)\\text{Var}(X_i)\n",
    "$$\n",
    "\n",
    "$$\n",
    "\\text{Var}(W_iX_i) = E[X_i^2] \\text{Var}(W_i)\n",
    "$$\n",
    "\n",
    "$$\n",
    "\\text{Var}(Y) = \\text{Var}(W_1X_1 + W_2X_2 + \\dotsb + W_n X_n) = n\\text{Var}(W)E[X^2]\n",
    "$$\n",
    "\n",
    "На *l-ом* слое:\n",
    "$$\n",
    "X^{l} = ReLU(0,Y^{l-1}) \\text{, а } Y^{l-1} \\text{распределен симметрично относительно нуля}\n",
    "$$\n",
    "\n",
    "$$\n",
    "E[(X^{l})^2] = \\frac{1}{2} \\text{Var}(Y^{l-1})\n",
    "$$\n",
    "\n",
    "$$\n",
    "\\text{Var}(Y^l) = \\frac{n}{2}\\text{Var}(W_i)\\text{Var}(Y^{l-1})\n",
    "$$\n",
    "\n",
    "$$\n",
    "\\text{Var}(W_i) = \\frac{2}{n} = \\frac{2}{n_\\text{in}} \n",
    "$$\n",
    "\n",
    "Для симметричных функций активации(сигмоид,тангенс) используем правило Xavier'а:\n",
    "\n",
    "$$\n",
    "W \\sim U(-\\frac{\\sqrt{6}}{\\sqrt{n_{in} + n_{out}}},-\\frac{\\sqrt{6}}{\\sqrt{n_{in} + n_{out}}})\n",
    "$$"
   ]
  },
  {
   "cell_type": "markdown",
   "metadata": {},
   "source": [
    "###  Dropout (в дополнение к L1 и L2). \"Учиться меньше, чтобы учиться лучше\"(с)"
   ]
  },
  {
   "cell_type": "markdown",
   "metadata": {},
   "source": [
    "<img src=\"./imgs/18.png\" width=700>"
   ]
  },
  {
   "cell_type": "markdown",
   "metadata": {},
   "source": [
    "Суть: каждый из нейронов участвует в обучении с некоторой вероятностью __p__. Во время инференса все нейроны включены в работу сети."
   ]
  },
  {
   "cell_type": "code",
   "execution_count": 44,
   "metadata": {},
   "outputs": [],
   "source": [
    "class Dropout:\n",
    "    def __init__(self, p = 0.5):\n",
    "        self.p = p\n",
    "        self.train = True\n",
    "    \n",
    "    def set_train(self, train = True):\n",
    "        self.train = train\n",
    "    \n",
    "    def forward(self, x):\n",
    "        if not self.train:\n",
    "            self.mask = np.ones(*x.shape)\n",
    "            return x\n",
    "        self.mask = ( np.random.rand(*x.shape) > self.p ) / (1.0 - self.p)\n",
    "        return x * self.mask\n",
    "        \n",
    "    def backward(self, dz, lr=0.001):\n",
    "        return dz * self.mask"
   ]
  },
  {
   "cell_type": "code",
   "execution_count": 45,
   "metadata": {},
   "outputs": [
    {
     "name": "stdout",
     "output_type": "stream",
     "text": [
      "[ 2.  0.  6.  8. 10.  0. 14. 16.]\n",
      "[ 4.  0. 12. 16. 20.  0. 28. 32.]\n"
     ]
    }
   ],
   "source": [
    "#np.random.seed()\n",
    "x = np.array([1,2,3,4,5,6,7,8])\n",
    "d = Dropout(0.5)\n",
    "z = d.forward(x)\n",
    "print(z)\n",
    "z = d.backward(z)\n",
    "print(z)"
   ]
  },
  {
   "cell_type": "markdown",
   "metadata": {},
   "source": [
    "# Тест 0 - самая тупая сеть\n",
    "\n",
    "Строим функцию $f(x)=x$"
   ]
  },
  {
   "cell_type": "code",
   "execution_count": 46,
   "metadata": {},
   "outputs": [],
   "source": [
    "X = np.array([[1., 0],\n",
    "              [0,  1.]])\n",
    "Y = np.array([[1., 0],\n",
    "              [0,  1.]])"
   ]
  },
  {
   "cell_type": "code",
   "execution_count": 47,
   "metadata": {},
   "outputs": [],
   "source": [
    "class IdentityNet:\n",
    "\n",
    "    def __init__(self):\n",
    "        self.d = Dense(2, 2)\n",
    "        self.s = Softmax()\n",
    "        \n",
    "    def forward(self, x):\n",
    "        self.x = x\n",
    "        net = self.d.forward(x)\n",
    "        net = self.s.forward(net)\n",
    "        return net\n",
    "    \n",
    "    def backward(self, dz, lr=0.001):\n",
    "        dz = self.s.backward(dz, lr)\n",
    "        dz = self.d.backward(dz, lr)\n",
    "        return dz"
   ]
  },
  {
   "cell_type": "code",
   "execution_count": 48,
   "metadata": {},
   "outputs": [],
   "source": [
    "net = IdentityNet()\n",
    "L_iter = []"
   ]
  },
  {
   "cell_type": "code",
   "execution_count": 49,
   "metadata": {},
   "outputs": [
    {
     "name": "stdout",
     "output_type": "stream",
     "text": [
      "[9.99518138e-01 4.81861716e-04] [1.94314953e-05 9.99980569e-01]\n"
     ]
    },
    {
     "data": {
      "image/png": "[encoded data removed]",
      "text/plain": [
       "<Figure size 432x288 with 1 Axes>"
      ]
     },
     "metadata": {
      "needs_background": "light"
     },
     "output_type": "display_data"
    }
   ],
   "source": [
    "# Инициализируем loss, его удобнее хранить в теле обучения\n",
    "loss = CrossEntropy() \n",
    "lr = 0.1 # скорость обучения\n",
    "for iter in range(100): # эпохи = полный проход по датасету\n",
    "    L_acc = 0.\n",
    "    for i in range(X.shape[0]):\n",
    "        x = X[i]\n",
    "        y = Y[i]\n",
    "        y_h = net.forward(x)\n",
    "        L = loss.forward(y, net.forward(x))\n",
    "        L_acc += L\n",
    "        dz = loss.backward(1, lr)\n",
    "        net.backward(dz, lr)\n",
    "    L_iter.append(L_acc) # коллекционируем loss\n",
    "plt.plot(L_iter) # посмотрим на кривую обучения\n",
    "print( net.forward(X[0]), net.forward(X[1])) # проверим глазами, что обучились"
   ]
  },
  {
   "cell_type": "markdown",
   "metadata": {},
   "source": [
    "# Тест 1 - XOR\n",
    "\n",
    "<img src=\"./imgs/10.png\" width=200>"
   ]
  },
  {
   "cell_type": "code",
   "execution_count": 50,
   "metadata": {},
   "outputs": [],
   "source": [
    "X = np.array([[-1, -1],\n",
    "              [1, -1],\n",
    "              [-1, 1],\n",
    "              [1, 1]], dtype='float')\n",
    "\n",
    "Y = np.array([[1, 0],\n",
    "              [0, 1],\n",
    "              [0, 1],\n",
    "              [1, 0]], dtype='float')\n"
   ]
  },
  {
   "cell_type": "code",
   "execution_count": 51,
   "metadata": {},
   "outputs": [],
   "source": [
    "class XorNet:\n",
    "    \n",
    "    def __init__(self):\n",
    "        self.d1 = Dense(2, 10)\n",
    "        self.a1 = ReLU()\n",
    "        self.d2 = Dense(10, 2)\n",
    "        self.sm = Softmax()\n",
    "        \n",
    "    def forward(self, x):\n",
    "        net = self.d1.forward(x)\n",
    "        net = self.a1.forward(net)\n",
    "        net = self.d2.forward(net)\n",
    "        net = self.sm.forward(net)\n",
    "        self.net = net\n",
    "        return net\n",
    "    \n",
    "    def backward(self, dz, lr=0.1):\n",
    "        dz = self.sm.backward(dz, lr)\n",
    "        dz = self.d2.backward(dz, lr)\n",
    "        dz = self.a1.backward(dz, lr)\n",
    "        dz = self.d1.backward(dz, lr)\n",
    "        return dz\n",
    "        "
   ]
  },
  {
   "cell_type": "code",
   "execution_count": 52,
   "metadata": {},
   "outputs": [],
   "source": [
    "net = XorNet()"
   ]
  },
  {
   "cell_type": "code",
   "execution_count": 53,
   "metadata": {},
   "outputs": [
    {
     "ename": "ValueError",
     "evalue": "math domain error",
     "output_type": "error",
     "traceback": [
      "\u001b[1;31m---------------------------------------------------------------------------\u001b[0m",
      "\u001b[1;31mValueError\u001b[0m                                Traceback (most recent call last)",
      "\u001b[1;32m<ipython-input-53-bca50a1b08d1>\u001b[0m in \u001b[0;36m<module>\u001b[1;34m()\u001b[0m\n\u001b[0;32m      8\u001b[0m         \u001b[0my\u001b[0m \u001b[1;33m=\u001b[0m \u001b[0mY\u001b[0m\u001b[1;33m[\u001b[0m\u001b[0mi\u001b[0m\u001b[1;33m]\u001b[0m\u001b[1;33m\u001b[0m\u001b[0m\n\u001b[0;32m      9\u001b[0m         \u001b[0my_h\u001b[0m \u001b[1;33m=\u001b[0m \u001b[0mnet\u001b[0m\u001b[1;33m.\u001b[0m\u001b[0mforward\u001b[0m\u001b[1;33m(\u001b[0m\u001b[0mx\u001b[0m\u001b[1;33m)\u001b[0m\u001b[1;33m\u001b[0m\u001b[0m\n\u001b[1;32m---> 10\u001b[1;33m         \u001b[0mL\u001b[0m \u001b[1;33m=\u001b[0m \u001b[0mloss\u001b[0m\u001b[1;33m.\u001b[0m\u001b[0mforward\u001b[0m\u001b[1;33m(\u001b[0m\u001b[0my\u001b[0m\u001b[1;33m,\u001b[0m \u001b[0my_h\u001b[0m\u001b[1;33m)\u001b[0m\u001b[1;33m\u001b[0m\u001b[0m\n\u001b[0m\u001b[0;32m     11\u001b[0m         \u001b[0mL_acc\u001b[0m \u001b[1;33m+=\u001b[0m \u001b[0mL\u001b[0m\u001b[1;33m\u001b[0m\u001b[0m\n\u001b[0;32m     12\u001b[0m         \u001b[0mdz\u001b[0m \u001b[1;33m=\u001b[0m \u001b[0mloss\u001b[0m\u001b[1;33m.\u001b[0m\u001b[0mbackward\u001b[0m\u001b[1;33m(\u001b[0m\u001b[1;36m1\u001b[0m\u001b[1;33m,\u001b[0m \u001b[0mlr\u001b[0m\u001b[1;33m)\u001b[0m\u001b[1;33m\u001b[0m\u001b[0m\n",
      "\u001b[1;32m<ipython-input-43-0b9a1c3346f1>\u001b[0m in \u001b[0;36mforward\u001b[1;34m(self, y_true, y_hat)\u001b[0m\n\u001b[0;32m      7\u001b[0m         \u001b[0mloss\u001b[0m \u001b[1;33m=\u001b[0m \u001b[1;36m0.\u001b[0m\u001b[1;33m\u001b[0m\u001b[0m\n\u001b[0;32m      8\u001b[0m         \u001b[1;32mfor\u001b[0m \u001b[0mi\u001b[0m \u001b[1;32min\u001b[0m \u001b[0mrange\u001b[0m\u001b[1;33m(\u001b[0m\u001b[0my_true\u001b[0m\u001b[1;33m.\u001b[0m\u001b[0mshape\u001b[0m\u001b[1;33m[\u001b[0m\u001b[1;36m0\u001b[0m\u001b[1;33m]\u001b[0m\u001b[1;33m)\u001b[0m\u001b[1;33m:\u001b[0m\u001b[1;33m\u001b[0m\u001b[0m\n\u001b[1;32m----> 9\u001b[1;33m             \u001b[0mloss\u001b[0m\u001b[1;33m+=\u001b[0m \u001b[1;33m-\u001b[0m \u001b[0my_true\u001b[0m\u001b[1;33m[\u001b[0m\u001b[0mi\u001b[0m\u001b[1;33m]\u001b[0m \u001b[1;33m*\u001b[0m \u001b[0mmath\u001b[0m\u001b[1;33m.\u001b[0m\u001b[0mlog\u001b[0m\u001b[1;33m(\u001b[0m\u001b[0my_hat\u001b[0m\u001b[1;33m[\u001b[0m\u001b[0mi\u001b[0m\u001b[1;33m]\u001b[0m\u001b[1;33m)\u001b[0m\u001b[1;33m\u001b[0m\u001b[0m\n\u001b[0m\u001b[0;32m     10\u001b[0m         \u001b[1;32mreturn\u001b[0m \u001b[0mloss\u001b[0m\u001b[1;33m\u001b[0m\u001b[0m\n\u001b[0;32m     11\u001b[0m \u001b[1;33m\u001b[0m\u001b[0m\n",
      "\u001b[1;31mValueError\u001b[0m: math domain error"
     ]
    }
   ],
   "source": [
    "loss = CrossEntropy()\n",
    "lr = 0.1\n",
    "L_iter = []\n",
    "for iter in range(100):\n",
    "    L_acc = 0.\n",
    "    for i in range(X.shape[0]):\n",
    "        x = X[i]\n",
    "        y = Y[i]\n",
    "        y_h = net.forward(x)\n",
    "        L = loss.forward(y, y_h)\n",
    "        L_acc += L\n",
    "        dz = loss.backward(1, lr)\n",
    "        dz = net.backward(dz, lr)\n",
    "    L_iter.append(L_acc)\n",
    "plt.plot(L_iter)\n",
    "for i in range(4):\n",
    "    print(net.forward(X[i]), Y[i])"
   ]
  },
  {
   "cell_type": "markdown",
   "metadata": {},
   "source": [
    "# Тест 3 - MNIST"
   ]
  },
  {
   "cell_type": "code",
   "execution_count": 54,
   "metadata": {
    "scrolled": true
   },
   "outputs": [
    {
     "ename": "TimeoutError",
     "evalue": "[WinError 10060] Попытка установить соединение была безуспешной, т.к. от другого компьютера за требуемое время не получен нужный отклик, или было разорвано уже установленное соединение из-за неверного отклика уже подключенного компьютера",
     "output_type": "error",
     "traceback": [
      "\u001b[1;31m---------------------------------------------------------------------------\u001b[0m",
      "\u001b[1;31mTimeoutError\u001b[0m                              Traceback (most recent call last)",
      "\u001b[1;32m<ipython-input-54-3bde695435dc>\u001b[0m in \u001b[0;36m<module>\u001b[1;34m()\u001b[0m\n\u001b[0;32m      1\u001b[0m \u001b[1;32mimport\u001b[0m \u001b[0mtime\u001b[0m\u001b[1;33m\u001b[0m\u001b[0m\n\u001b[0;32m      2\u001b[0m \u001b[1;32mfrom\u001b[0m \u001b[0msklearn\u001b[0m\u001b[1;33m.\u001b[0m\u001b[0mdatasets\u001b[0m \u001b[1;32mimport\u001b[0m \u001b[0mfetch_mldata\u001b[0m\u001b[1;33m\u001b[0m\u001b[0m\n\u001b[1;32m----> 3\u001b[1;33m \u001b[0mmnist\u001b[0m \u001b[1;33m=\u001b[0m \u001b[0mfetch_mldata\u001b[0m\u001b[1;33m(\u001b[0m\u001b[1;34m'MNIST original'\u001b[0m\u001b[1;33m,\u001b[0m \u001b[0mdata_home\u001b[0m\u001b[1;33m=\u001b[0m\u001b[1;34m'./'\u001b[0m\u001b[1;33m)\u001b[0m\u001b[1;33m\u001b[0m\u001b[0m\n\u001b[0m\u001b[0;32m      4\u001b[0m \u001b[0mX\u001b[0m \u001b[1;33m=\u001b[0m \u001b[0mmnist\u001b[0m\u001b[1;33m[\u001b[0m\u001b[1;34m'data'\u001b[0m\u001b[1;33m]\u001b[0m\u001b[1;33m\u001b[0m\u001b[0m\n\u001b[0;32m      5\u001b[0m \u001b[0mprint\u001b[0m\u001b[1;33m(\u001b[0m\u001b[0mX\u001b[0m\u001b[1;33m.\u001b[0m\u001b[0mshape\u001b[0m\u001b[1;33m)\u001b[0m\u001b[1;33m\u001b[0m\u001b[0m\n",
      "\u001b[1;32mC:\\Anaconda\\lib\\site-packages\\sklearn\\datasets\\mldata.py\u001b[0m in \u001b[0;36mfetch_mldata\u001b[1;34m(dataname, target_name, data_name, transpose_data, data_home)\u001b[0m\n\u001b[0;32m    152\u001b[0m         \u001b[0murlname\u001b[0m \u001b[1;33m=\u001b[0m \u001b[0mMLDATA_BASE_URL\u001b[0m \u001b[1;33m%\u001b[0m \u001b[0mquote\u001b[0m\u001b[1;33m(\u001b[0m\u001b[0mdataname\u001b[0m\u001b[1;33m)\u001b[0m\u001b[1;33m\u001b[0m\u001b[0m\n\u001b[0;32m    153\u001b[0m         \u001b[1;32mtry\u001b[0m\u001b[1;33m:\u001b[0m\u001b[1;33m\u001b[0m\u001b[0m\n\u001b[1;32m--> 154\u001b[1;33m             \u001b[0mmldata_url\u001b[0m \u001b[1;33m=\u001b[0m \u001b[0murlopen\u001b[0m\u001b[1;33m(\u001b[0m\u001b[0murlname\u001b[0m\u001b[1;33m)\u001b[0m\u001b[1;33m\u001b[0m\u001b[0m\n\u001b[0m\u001b[0;32m    155\u001b[0m         \u001b[1;32mexcept\u001b[0m \u001b[0mHTTPError\u001b[0m \u001b[1;32mas\u001b[0m \u001b[0me\u001b[0m\u001b[1;33m:\u001b[0m\u001b[1;33m\u001b[0m\u001b[0m\n\u001b[0;32m    156\u001b[0m             \u001b[1;32mif\u001b[0m \u001b[0me\u001b[0m\u001b[1;33m.\u001b[0m\u001b[0mcode\u001b[0m \u001b[1;33m==\u001b[0m \u001b[1;36m404\u001b[0m\u001b[1;33m:\u001b[0m\u001b[1;33m\u001b[0m\u001b[0m\n",
      "\u001b[1;32mC:\\Anaconda\\lib\\urllib\\request.py\u001b[0m in \u001b[0;36murlopen\u001b[1;34m(url, data, timeout, cafile, capath, cadefault, context)\u001b[0m\n\u001b[0;32m    220\u001b[0m     \u001b[1;32melse\u001b[0m\u001b[1;33m:\u001b[0m\u001b[1;33m\u001b[0m\u001b[0m\n\u001b[0;32m    221\u001b[0m         \u001b[0mopener\u001b[0m \u001b[1;33m=\u001b[0m \u001b[0m_opener\u001b[0m\u001b[1;33m\u001b[0m\u001b[0m\n\u001b[1;32m--> 222\u001b[1;33m     \u001b[1;32mreturn\u001b[0m \u001b[0mopener\u001b[0m\u001b[1;33m.\u001b[0m\u001b[0mopen\u001b[0m\u001b[1;33m(\u001b[0m\u001b[0murl\u001b[0m\u001b[1;33m,\u001b[0m \u001b[0mdata\u001b[0m\u001b[1;33m,\u001b[0m \u001b[0mtimeout\u001b[0m\u001b[1;33m)\u001b[0m\u001b[1;33m\u001b[0m\u001b[0m\n\u001b[0m\u001b[0;32m    223\u001b[0m \u001b[1;33m\u001b[0m\u001b[0m\n\u001b[0;32m    224\u001b[0m \u001b[1;32mdef\u001b[0m \u001b[0minstall_opener\u001b[0m\u001b[1;33m(\u001b[0m\u001b[0mopener\u001b[0m\u001b[1;33m)\u001b[0m\u001b[1;33m:\u001b[0m\u001b[1;33m\u001b[0m\u001b[0m\n",
      "\u001b[1;32mC:\\Anaconda\\lib\\urllib\\request.py\u001b[0m in \u001b[0;36mopen\u001b[1;34m(self, fullurl, data, timeout)\u001b[0m\n\u001b[0;32m    523\u001b[0m             \u001b[0mreq\u001b[0m \u001b[1;33m=\u001b[0m \u001b[0mmeth\u001b[0m\u001b[1;33m(\u001b[0m\u001b[0mreq\u001b[0m\u001b[1;33m)\u001b[0m\u001b[1;33m\u001b[0m\u001b[0m\n\u001b[0;32m    524\u001b[0m \u001b[1;33m\u001b[0m\u001b[0m\n\u001b[1;32m--> 525\u001b[1;33m         \u001b[0mresponse\u001b[0m \u001b[1;33m=\u001b[0m \u001b[0mself\u001b[0m\u001b[1;33m.\u001b[0m\u001b[0m_open\u001b[0m\u001b[1;33m(\u001b[0m\u001b[0mreq\u001b[0m\u001b[1;33m,\u001b[0m \u001b[0mdata\u001b[0m\u001b[1;33m)\u001b[0m\u001b[1;33m\u001b[0m\u001b[0m\n\u001b[0m\u001b[0;32m    526\u001b[0m \u001b[1;33m\u001b[0m\u001b[0m\n\u001b[0;32m    527\u001b[0m         \u001b[1;31m# post-process response\u001b[0m\u001b[1;33m\u001b[0m\u001b[1;33m\u001b[0m\u001b[0m\n",
      "\u001b[1;32mC:\\Anaconda\\lib\\urllib\\request.py\u001b[0m in \u001b[0;36m_open\u001b[1;34m(self, req, data)\u001b[0m\n\u001b[0;32m    541\u001b[0m         \u001b[0mprotocol\u001b[0m \u001b[1;33m=\u001b[0m \u001b[0mreq\u001b[0m\u001b[1;33m.\u001b[0m\u001b[0mtype\u001b[0m\u001b[1;33m\u001b[0m\u001b[0m\n\u001b[0;32m    542\u001b[0m         result = self._call_chain(self.handle_open, protocol, protocol +\n\u001b[1;32m--> 543\u001b[1;33m                                   '_open', req)\n\u001b[0m\u001b[0;32m    544\u001b[0m         \u001b[1;32mif\u001b[0m \u001b[0mresult\u001b[0m\u001b[1;33m:\u001b[0m\u001b[1;33m\u001b[0m\u001b[0m\n\u001b[0;32m    545\u001b[0m             \u001b[1;32mreturn\u001b[0m \u001b[0mresult\u001b[0m\u001b[1;33m\u001b[0m\u001b[0m\n",
      "\u001b[1;32mC:\\Anaconda\\lib\\urllib\\request.py\u001b[0m in \u001b[0;36m_call_chain\u001b[1;34m(self, chain, kind, meth_name, *args)\u001b[0m\n\u001b[0;32m    501\u001b[0m         \u001b[1;32mfor\u001b[0m \u001b[0mhandler\u001b[0m \u001b[1;32min\u001b[0m \u001b[0mhandlers\u001b[0m\u001b[1;33m:\u001b[0m\u001b[1;33m\u001b[0m\u001b[0m\n\u001b[0;32m    502\u001b[0m             \u001b[0mfunc\u001b[0m \u001b[1;33m=\u001b[0m \u001b[0mgetattr\u001b[0m\u001b[1;33m(\u001b[0m\u001b[0mhandler\u001b[0m\u001b[1;33m,\u001b[0m \u001b[0mmeth_name\u001b[0m\u001b[1;33m)\u001b[0m\u001b[1;33m\u001b[0m\u001b[0m\n\u001b[1;32m--> 503\u001b[1;33m             \u001b[0mresult\u001b[0m \u001b[1;33m=\u001b[0m \u001b[0mfunc\u001b[0m\u001b[1;33m(\u001b[0m\u001b[1;33m*\u001b[0m\u001b[0margs\u001b[0m\u001b[1;33m)\u001b[0m\u001b[1;33m\u001b[0m\u001b[0m\n\u001b[0m\u001b[0;32m    504\u001b[0m             \u001b[1;32mif\u001b[0m \u001b[0mresult\u001b[0m \u001b[1;32mis\u001b[0m \u001b[1;32mnot\u001b[0m \u001b[1;32mNone\u001b[0m\u001b[1;33m:\u001b[0m\u001b[1;33m\u001b[0m\u001b[0m\n\u001b[0;32m    505\u001b[0m                 \u001b[1;32mreturn\u001b[0m \u001b[0mresult\u001b[0m\u001b[1;33m\u001b[0m\u001b[0m\n",
      "\u001b[1;32mC:\\Anaconda\\lib\\urllib\\request.py\u001b[0m in \u001b[0;36mhttp_open\u001b[1;34m(self, req)\u001b[0m\n\u001b[0;32m   1343\u001b[0m \u001b[1;33m\u001b[0m\u001b[0m\n\u001b[0;32m   1344\u001b[0m     \u001b[1;32mdef\u001b[0m \u001b[0mhttp_open\u001b[0m\u001b[1;33m(\u001b[0m\u001b[0mself\u001b[0m\u001b[1;33m,\u001b[0m \u001b[0mreq\u001b[0m\u001b[1;33m)\u001b[0m\u001b[1;33m:\u001b[0m\u001b[1;33m\u001b[0m\u001b[0m\n\u001b[1;32m-> 1345\u001b[1;33m         \u001b[1;32mreturn\u001b[0m \u001b[0mself\u001b[0m\u001b[1;33m.\u001b[0m\u001b[0mdo_open\u001b[0m\u001b[1;33m(\u001b[0m\u001b[0mhttp\u001b[0m\u001b[1;33m.\u001b[0m\u001b[0mclient\u001b[0m\u001b[1;33m.\u001b[0m\u001b[0mHTTPConnection\u001b[0m\u001b[1;33m,\u001b[0m \u001b[0mreq\u001b[0m\u001b[1;33m)\u001b[0m\u001b[1;33m\u001b[0m\u001b[0m\n\u001b[0m\u001b[0;32m   1346\u001b[0m \u001b[1;33m\u001b[0m\u001b[0m\n\u001b[0;32m   1347\u001b[0m     \u001b[0mhttp_request\u001b[0m \u001b[1;33m=\u001b[0m \u001b[0mAbstractHTTPHandler\u001b[0m\u001b[1;33m.\u001b[0m\u001b[0mdo_request_\u001b[0m\u001b[1;33m\u001b[0m\u001b[0m\n",
      "\u001b[1;32mC:\\Anaconda\\lib\\urllib\\request.py\u001b[0m in \u001b[0;36mdo_open\u001b[1;34m(self, http_class, req, **http_conn_args)\u001b[0m\n\u001b[0;32m   1318\u001b[0m             \u001b[1;32mexcept\u001b[0m \u001b[0mOSError\u001b[0m \u001b[1;32mas\u001b[0m \u001b[0merr\u001b[0m\u001b[1;33m:\u001b[0m \u001b[1;31m# timeout error\u001b[0m\u001b[1;33m\u001b[0m\u001b[0m\n\u001b[0;32m   1319\u001b[0m                 \u001b[1;32mraise\u001b[0m \u001b[0mURLError\u001b[0m\u001b[1;33m(\u001b[0m\u001b[0merr\u001b[0m\u001b[1;33m)\u001b[0m\u001b[1;33m\u001b[0m\u001b[0m\n\u001b[1;32m-> 1320\u001b[1;33m             \u001b[0mr\u001b[0m \u001b[1;33m=\u001b[0m \u001b[0mh\u001b[0m\u001b[1;33m.\u001b[0m\u001b[0mgetresponse\u001b[0m\u001b[1;33m(\u001b[0m\u001b[1;33m)\u001b[0m\u001b[1;33m\u001b[0m\u001b[0m\n\u001b[0m\u001b[0;32m   1321\u001b[0m         \u001b[1;32mexcept\u001b[0m\u001b[1;33m:\u001b[0m\u001b[1;33m\u001b[0m\u001b[0m\n\u001b[0;32m   1322\u001b[0m             \u001b[0mh\u001b[0m\u001b[1;33m.\u001b[0m\u001b[0mclose\u001b[0m\u001b[1;33m(\u001b[0m\u001b[1;33m)\u001b[0m\u001b[1;33m\u001b[0m\u001b[0m\n",
      "\u001b[1;32mC:\\Anaconda\\lib\\http\\client.py\u001b[0m in \u001b[0;36mgetresponse\u001b[1;34m(self)\u001b[0m\n\u001b[0;32m   1319\u001b[0m         \u001b[1;32mtry\u001b[0m\u001b[1;33m:\u001b[0m\u001b[1;33m\u001b[0m\u001b[0m\n\u001b[0;32m   1320\u001b[0m             \u001b[1;32mtry\u001b[0m\u001b[1;33m:\u001b[0m\u001b[1;33m\u001b[0m\u001b[0m\n\u001b[1;32m-> 1321\u001b[1;33m                 \u001b[0mresponse\u001b[0m\u001b[1;33m.\u001b[0m\u001b[0mbegin\u001b[0m\u001b[1;33m(\u001b[0m\u001b[1;33m)\u001b[0m\u001b[1;33m\u001b[0m\u001b[0m\n\u001b[0m\u001b[0;32m   1322\u001b[0m             \u001b[1;32mexcept\u001b[0m \u001b[0mConnectionError\u001b[0m\u001b[1;33m:\u001b[0m\u001b[1;33m\u001b[0m\u001b[0m\n\u001b[0;32m   1323\u001b[0m                 \u001b[0mself\u001b[0m\u001b[1;33m.\u001b[0m\u001b[0mclose\u001b[0m\u001b[1;33m(\u001b[0m\u001b[1;33m)\u001b[0m\u001b[1;33m\u001b[0m\u001b[0m\n",
      "\u001b[1;32mC:\\Anaconda\\lib\\http\\client.py\u001b[0m in \u001b[0;36mbegin\u001b[1;34m(self)\u001b[0m\n\u001b[0;32m    294\u001b[0m         \u001b[1;31m# read until we get a non-100 response\u001b[0m\u001b[1;33m\u001b[0m\u001b[1;33m\u001b[0m\u001b[0m\n\u001b[0;32m    295\u001b[0m         \u001b[1;32mwhile\u001b[0m \u001b[1;32mTrue\u001b[0m\u001b[1;33m:\u001b[0m\u001b[1;33m\u001b[0m\u001b[0m\n\u001b[1;32m--> 296\u001b[1;33m             \u001b[0mversion\u001b[0m\u001b[1;33m,\u001b[0m \u001b[0mstatus\u001b[0m\u001b[1;33m,\u001b[0m \u001b[0mreason\u001b[0m \u001b[1;33m=\u001b[0m \u001b[0mself\u001b[0m\u001b[1;33m.\u001b[0m\u001b[0m_read_status\u001b[0m\u001b[1;33m(\u001b[0m\u001b[1;33m)\u001b[0m\u001b[1;33m\u001b[0m\u001b[0m\n\u001b[0m\u001b[0;32m    297\u001b[0m             \u001b[1;32mif\u001b[0m \u001b[0mstatus\u001b[0m \u001b[1;33m!=\u001b[0m \u001b[0mCONTINUE\u001b[0m\u001b[1;33m:\u001b[0m\u001b[1;33m\u001b[0m\u001b[0m\n\u001b[0;32m    298\u001b[0m                 \u001b[1;32mbreak\u001b[0m\u001b[1;33m\u001b[0m\u001b[0m\n",
      "\u001b[1;32mC:\\Anaconda\\lib\\http\\client.py\u001b[0m in \u001b[0;36m_read_status\u001b[1;34m(self)\u001b[0m\n\u001b[0;32m    255\u001b[0m \u001b[1;33m\u001b[0m\u001b[0m\n\u001b[0;32m    256\u001b[0m     \u001b[1;32mdef\u001b[0m \u001b[0m_read_status\u001b[0m\u001b[1;33m(\u001b[0m\u001b[0mself\u001b[0m\u001b[1;33m)\u001b[0m\u001b[1;33m:\u001b[0m\u001b[1;33m\u001b[0m\u001b[0m\n\u001b[1;32m--> 257\u001b[1;33m         \u001b[0mline\u001b[0m \u001b[1;33m=\u001b[0m \u001b[0mstr\u001b[0m\u001b[1;33m(\u001b[0m\u001b[0mself\u001b[0m\u001b[1;33m.\u001b[0m\u001b[0mfp\u001b[0m\u001b[1;33m.\u001b[0m\u001b[0mreadline\u001b[0m\u001b[1;33m(\u001b[0m\u001b[0m_MAXLINE\u001b[0m \u001b[1;33m+\u001b[0m \u001b[1;36m1\u001b[0m\u001b[1;33m)\u001b[0m\u001b[1;33m,\u001b[0m \u001b[1;34m\"iso-8859-1\"\u001b[0m\u001b[1;33m)\u001b[0m\u001b[1;33m\u001b[0m\u001b[0m\n\u001b[0m\u001b[0;32m    258\u001b[0m         \u001b[1;32mif\u001b[0m \u001b[0mlen\u001b[0m\u001b[1;33m(\u001b[0m\u001b[0mline\u001b[0m\u001b[1;33m)\u001b[0m \u001b[1;33m>\u001b[0m \u001b[0m_MAXLINE\u001b[0m\u001b[1;33m:\u001b[0m\u001b[1;33m\u001b[0m\u001b[0m\n\u001b[0;32m    259\u001b[0m             \u001b[1;32mraise\u001b[0m \u001b[0mLineTooLong\u001b[0m\u001b[1;33m(\u001b[0m\u001b[1;34m\"status line\"\u001b[0m\u001b[1;33m)\u001b[0m\u001b[1;33m\u001b[0m\u001b[0m\n",
      "\u001b[1;32mC:\\Anaconda\\lib\\socket.py\u001b[0m in \u001b[0;36mreadinto\u001b[1;34m(self, b)\u001b[0m\n\u001b[0;32m    587\u001b[0m         \u001b[1;32mwhile\u001b[0m \u001b[1;32mTrue\u001b[0m\u001b[1;33m:\u001b[0m\u001b[1;33m\u001b[0m\u001b[0m\n\u001b[0;32m    588\u001b[0m             \u001b[1;32mtry\u001b[0m\u001b[1;33m:\u001b[0m\u001b[1;33m\u001b[0m\u001b[0m\n\u001b[1;32m--> 589\u001b[1;33m                 \u001b[1;32mreturn\u001b[0m \u001b[0mself\u001b[0m\u001b[1;33m.\u001b[0m\u001b[0m_sock\u001b[0m\u001b[1;33m.\u001b[0m\u001b[0mrecv_into\u001b[0m\u001b[1;33m(\u001b[0m\u001b[0mb\u001b[0m\u001b[1;33m)\u001b[0m\u001b[1;33m\u001b[0m\u001b[0m\n\u001b[0m\u001b[0;32m    590\u001b[0m             \u001b[1;32mexcept\u001b[0m \u001b[0mtimeout\u001b[0m\u001b[1;33m:\u001b[0m\u001b[1;33m\u001b[0m\u001b[0m\n\u001b[0;32m    591\u001b[0m                 \u001b[0mself\u001b[0m\u001b[1;33m.\u001b[0m\u001b[0m_timeout_occurred\u001b[0m \u001b[1;33m=\u001b[0m \u001b[1;32mTrue\u001b[0m\u001b[1;33m\u001b[0m\u001b[0m\n",
      "\u001b[1;31mTimeoutError\u001b[0m: [WinError 10060] Попытка установить соединение была безуспешной, т.к. от другого компьютера за требуемое время не получен нужный отклик, или было разорвано уже установленное соединение из-за неверного отклика уже подключенного компьютера"
     ]
    }
   ],
   "source": [
    "import time\n",
    "from sklearn.datasets import fetch_mldata\n",
    "mnist = fetch_mldata('MNIST original', data_home='./')\n",
    "X = mnist['data']\n",
    "print(X.shape)"
   ]
  },
  {
   "cell_type": "code",
   "execution_count": 32,
   "metadata": {},
   "outputs": [
    {
     "data": {
      "image/png": "[encoded data removed]",
      "text/plain": [
       "<Figure size 432x288 with 16 Axes>"
      ]
     },
     "metadata": {
      "needs_background": "light"
     },
     "output_type": "display_data"
    }
   ],
   "source": [
    "n=4\n",
    "for i in range(n*n):\n",
    "    plt.subplot(n,n,i+1)\n",
    "    I = X[np.random.randint(0, X.shape[0]),:]\n",
    "    I = I.reshape((28, 28))\n",
    "    plt.imshow(I, cmap='gray')"
   ]
  },
  {
   "cell_type": "code",
   "execution_count": 20,
   "metadata": {},
   "outputs": [
    {
     "ename": "NameError",
     "evalue": "name 'X' is not defined",
     "output_type": "error",
     "traceback": [
      "\u001b[1;31m---------------------------------------------------------------------------\u001b[0m",
      "\u001b[1;31mNameError\u001b[0m                                 Traceback (most recent call last)",
      "\u001b[1;32m<ipython-input-20-54f688b4f305>\u001b[0m in \u001b[0;36m<module>\u001b[1;34m()\u001b[0m\n\u001b[1;32m----> 1\u001b[1;33m \u001b[0mX\u001b[0m \u001b[1;33m=\u001b[0m \u001b[0mX\u001b[0m\u001b[1;33m.\u001b[0m\u001b[0mastype\u001b[0m\u001b[1;33m(\u001b[0m\u001b[1;34m'float'\u001b[0m\u001b[1;33m)\u001b[0m\u001b[1;33m\u001b[0m\u001b[0m\n\u001b[0m\u001b[0;32m      2\u001b[0m \u001b[0mXm\u001b[0m \u001b[1;33m=\u001b[0m \u001b[0mnp\u001b[0m\u001b[1;33m.\u001b[0m\u001b[0mmean\u001b[0m\u001b[1;33m(\u001b[0m\u001b[0mX\u001b[0m\u001b[1;33m,\u001b[0m \u001b[0maxis\u001b[0m\u001b[1;33m=\u001b[0m\u001b[1;36m0\u001b[0m\u001b[1;33m)\u001b[0m\u001b[1;33m\u001b[0m\u001b[0m\n\u001b[0;32m      3\u001b[0m \u001b[0mXs\u001b[0m \u001b[1;33m=\u001b[0m \u001b[0mnp\u001b[0m\u001b[1;33m.\u001b[0m\u001b[0mstd\u001b[0m\u001b[1;33m(\u001b[0m\u001b[0mX\u001b[0m\u001b[1;33m,\u001b[0m \u001b[0maxis\u001b[0m\u001b[1;33m=\u001b[0m\u001b[1;36m0\u001b[0m\u001b[1;33m)\u001b[0m\u001b[1;33m\u001b[0m\u001b[0m\n\u001b[0;32m      4\u001b[0m \u001b[0mX\u001b[0m\u001b[1;33m=\u001b[0m\u001b[1;33m(\u001b[0m\u001b[0mX\u001b[0m \u001b[1;33m-\u001b[0m \u001b[0mXm\u001b[0m\u001b[1;33m)\u001b[0m \u001b[1;33m/\u001b[0m \u001b[1;33m(\u001b[0m\u001b[0mXs\u001b[0m \u001b[1;33m+\u001b[0m \u001b[1;36m0.01\u001b[0m\u001b[1;33m)\u001b[0m\u001b[1;33m\u001b[0m\u001b[0m\n\u001b[0;32m      5\u001b[0m \u001b[0mplt\u001b[0m\u001b[1;33m.\u001b[0m\u001b[0mimshow\u001b[0m\u001b[1;33m(\u001b[0m\u001b[0mXm\u001b[0m\u001b[1;33m.\u001b[0m\u001b[0mreshape\u001b[0m\u001b[1;33m(\u001b[0m\u001b[1;33m(\u001b[0m\u001b[1;36m28\u001b[0m\u001b[1;33m,\u001b[0m \u001b[1;36m28\u001b[0m\u001b[1;33m)\u001b[0m\u001b[1;33m)\u001b[0m\u001b[1;33m)\u001b[0m\u001b[1;33m\u001b[0m\u001b[0m\n",
      "\u001b[1;31mNameError\u001b[0m: name 'X' is not defined"
     ]
    }
   ],
   "source": [
    "X = X.astype('float')\n",
    "Xm = np.mean(X, axis=0)\n",
    "Xs = np.std(X, axis=0)\n",
    "X=(X - Xm) / (Xs + 0.01)\n",
    "plt.imshow(Xm.reshape((28, 28)))\n",
    "plt.figure()\n",
    "plt.plot(X[2].reshape((28, 28))[14])"
   ]
  },
  {
   "cell_type": "code",
   "execution_count": 34,
   "metadata": {},
   "outputs": [
    {
     "name": "stdout",
     "output_type": "stream",
     "text": [
      "original [5. 5. 5. ... 6. 6. 6.]\n",
      "one hot [[1. 0.]\n",
      " [1. 0.]\n",
      " [1. 0.]\n",
      " ...\n",
      " [0. 1.]\n",
      " [0. 1.]\n",
      " [0. 1.]]\n"
     ]
    },
    {
     "name": "stderr",
     "output_type": "stream",
     "text": [
      "/anaconda2/envs/py36/lib/python3.6/site-packages/sklearn/cross_validation.py:41: DeprecationWarning: This module was deprecated in version 0.18 in favor of the model_selection module into which all the refactored classes and functions are moved. Also note that the interface of the new CV iterators are different from that of this module. This module will be removed in 0.20.\n",
      "  \"This module will be removed in 0.20.\", DeprecationWarning)\n"
     ]
    }
   ],
   "source": [
    "from sklearn.preprocessing import OneHotEncoder\n",
    "from sklearn.cross_validation import train_test_split\n",
    "Y = mnist['target']\n",
    "\n",
    "idxs = np.where((Y == 5 ) | (Y == 6))\n",
    "\n",
    "X_n = X[idxs]\n",
    "Y_n = Y[idxs]\n",
    "\n",
    "print('original', Y_n)\n",
    "t = OneHotEncoder(sparse=False)\n",
    "Y_work = t.fit_transform(Y_n.reshape(-1, 1))\n",
    "print('one hot', Y_work)\n",
    "X_train, X_test, Y_train, Y_test = train_test_split(X_n, Y_work, test_size=0.33, stratify=Y_n)"
   ]
  },
  {
   "cell_type": "code",
   "execution_count": 56,
   "metadata": {},
   "outputs": [],
   "source": [
    "class MnistNet:\n",
    "    \n",
    "    def __init__(self, rlambda=0.0):\n",
    "        self.d = Dense(784, 2, rlambda)\n",
    "        self.m = ReLU()\n",
    "        self.s = Softmax()\n",
    "    \n",
    "    def forward(self, x):\n",
    "        net = self.d.forward(x)\n",
    "        net = self.m.forward(net)\n",
    "        net = self.s.forward(net)\n",
    "        return net\n",
    "    \n",
    "    def backward(self, dz, lr):\n",
    "        dz = self.s.backward(dz, lr)\n",
    "        dz = self.m.backward(dz, lr)\n",
    "        dz = self.d.backward(dz, lr)\n",
    "        return dz"
   ]
  },
  {
   "cell_type": "code",
   "execution_count": 59,
   "metadata": {},
   "outputs": [],
   "source": [
    "class OneHotEncoder:\n",
    "    def __init__(self):\n",
    "        self.transform_mapping = np.zeros((10,10))\n",
    "        for i in range(self.transform_mapping.shape[0]):\n",
    "            self.transform_mapping[i][i] = 1.0\n",
    "    def transform(self, y):\n",
    "        return self.transform_mapping[int(y)]"
   ]
  },
  {
   "cell_type": "code",
   "execution_count": 63,
   "metadata": {},
   "outputs": [],
   "source": [
    "import pickle\n",
    "from sklearn.cross_validation import train_test_split\n",
    "train_data = None\n",
    "test_data = None\n",
    "encoder = OneHotEncoder()\n",
    "with open('data_train.pickle','rb') as fin:\n",
    "    train_data = pickle.load(fin)\n",
    "with open('data_test_no_labels.pickle','rb') as fin:\n",
    "    test_data = pickle.load(fin)\n",
    "\n",
    "X_train, X_test, Y_train, Y_test \\\n",
    "= train_test_split((train_data['data'] - np.mean(train_data['data']))/ (np.std(train_data['data']) + 10 ** (-2)),\\\n",
    "                   train_data['target'], test_size = 0.15, random_state=10)\n",
    "\n",
    "y_test_hot = np.array(list(map(lambda y : encoder.transform(y), Y_test)))\n",
    "y_train_hot = np.array(list(map(lambda y : encoder.transform(y), Y_train)))\n",
    "\n",
    "X_test_norm = (test_data['data'] - np.mean(test_data['data']))/ (np.std(test_data['data']) + 10 ** (-2))"
   ]
  },
  {
   "cell_type": "code",
   "execution_count": 64,
   "metadata": {},
   "outputs": [
    {
     "name": "stdout",
     "output_type": "stream",
     "text": [
      "7.0\n"
     ]
    },
    {
     "ename": "IndexError",
     "evalue": "tuple index out of range",
     "output_type": "error",
     "traceback": [
      "\u001b[1;31m---------------------------------------------------------------------------\u001b[0m",
      "\u001b[1;31mIndexError\u001b[0m                                Traceback (most recent call last)",
      "\u001b[1;32m<ipython-input-64-0ed646155774>\u001b[0m in \u001b[0;36m<module>\u001b[1;34m()\u001b[0m\n\u001b[0;32m     13\u001b[0m         \u001b[0mprint\u001b[0m\u001b[1;33m(\u001b[0m\u001b[0mY_train\u001b[0m\u001b[1;33m[\u001b[0m\u001b[0msh\u001b[0m\u001b[1;33m[\u001b[0m\u001b[0mi\u001b[0m\u001b[1;33m]\u001b[0m\u001b[1;33m]\u001b[0m\u001b[1;33m)\u001b[0m\u001b[1;33m\u001b[0m\u001b[0m\n\u001b[0;32m     14\u001b[0m         \u001b[0my_h\u001b[0m \u001b[1;33m=\u001b[0m \u001b[0mnet\u001b[0m\u001b[1;33m.\u001b[0m\u001b[0mforward\u001b[0m\u001b[1;33m(\u001b[0m\u001b[0mx\u001b[0m\u001b[1;33m)\u001b[0m\u001b[1;33m\u001b[0m\u001b[0m\n\u001b[1;32m---> 15\u001b[1;33m         \u001b[0mL\u001b[0m \u001b[1;33m=\u001b[0m \u001b[0mloss\u001b[0m\u001b[1;33m.\u001b[0m\u001b[0mforward\u001b[0m\u001b[1;33m(\u001b[0m\u001b[0my\u001b[0m\u001b[1;33m,\u001b[0m \u001b[0my_h\u001b[0m\u001b[1;33m)\u001b[0m \u001b[1;31m#+ net.get_reg_loss()\u001b[0m\u001b[1;33m\u001b[0m\u001b[0m\n\u001b[0m\u001b[0;32m     16\u001b[0m         \u001b[0mL_acc\u001b[0m \u001b[1;33m+=\u001b[0m \u001b[0mL\u001b[0m\u001b[1;33m\u001b[0m\u001b[0m\n\u001b[0;32m     17\u001b[0m         \u001b[0mdz\u001b[0m \u001b[1;33m=\u001b[0m \u001b[0mloss\u001b[0m\u001b[1;33m.\u001b[0m\u001b[0mbackward\u001b[0m\u001b[1;33m(\u001b[0m\u001b[1;36m1\u001b[0m\u001b[1;33m,\u001b[0m \u001b[0mlr\u001b[0m\u001b[1;33m)\u001b[0m\u001b[1;33m\u001b[0m\u001b[0m\n",
      "\u001b[1;32m<ipython-input-43-0b9a1c3346f1>\u001b[0m in \u001b[0;36mforward\u001b[1;34m(self, y_true, y_hat)\u001b[0m\n\u001b[0;32m      6\u001b[0m         \u001b[0mself\u001b[0m\u001b[1;33m.\u001b[0m\u001b[0my_hat\u001b[0m \u001b[1;33m=\u001b[0m \u001b[0my_hat\u001b[0m\u001b[1;33m\u001b[0m\u001b[0m\n\u001b[0;32m      7\u001b[0m         \u001b[0mloss\u001b[0m \u001b[1;33m=\u001b[0m \u001b[1;36m0.\u001b[0m\u001b[1;33m\u001b[0m\u001b[0m\n\u001b[1;32m----> 8\u001b[1;33m         \u001b[1;32mfor\u001b[0m \u001b[0mi\u001b[0m \u001b[1;32min\u001b[0m \u001b[0mrange\u001b[0m\u001b[1;33m(\u001b[0m\u001b[0my_true\u001b[0m\u001b[1;33m.\u001b[0m\u001b[0mshape\u001b[0m\u001b[1;33m[\u001b[0m\u001b[1;36m0\u001b[0m\u001b[1;33m]\u001b[0m\u001b[1;33m)\u001b[0m\u001b[1;33m:\u001b[0m\u001b[1;33m\u001b[0m\u001b[0m\n\u001b[0m\u001b[0;32m      9\u001b[0m             \u001b[0mloss\u001b[0m\u001b[1;33m+=\u001b[0m \u001b[1;33m-\u001b[0m \u001b[0my_true\u001b[0m\u001b[1;33m[\u001b[0m\u001b[0mi\u001b[0m\u001b[1;33m]\u001b[0m \u001b[1;33m*\u001b[0m \u001b[0mmath\u001b[0m\u001b[1;33m.\u001b[0m\u001b[0mlog\u001b[0m\u001b[1;33m(\u001b[0m\u001b[0my_hat\u001b[0m\u001b[1;33m[\u001b[0m\u001b[0mi\u001b[0m\u001b[1;33m]\u001b[0m\u001b[1;33m)\u001b[0m\u001b[1;33m\u001b[0m\u001b[0m\n\u001b[0;32m     10\u001b[0m         \u001b[1;32mreturn\u001b[0m \u001b[0mloss\u001b[0m\u001b[1;33m\u001b[0m\u001b[0m\n",
      "\u001b[1;31mIndexError\u001b[0m: tuple index out of range"
     ]
    }
   ],
   "source": [
    "net = MnistNet(0)\n",
    "loss = CrossEntropy()\n",
    "lr = 0.001\n",
    "L_train = []\n",
    "L_test = []\n",
    "for iter in range(500):\n",
    "    L_acc = 0.\n",
    "    sh = list(range(X_train.shape[0])) # больше рандома богу рандома\n",
    "    np.random.shuffle(sh)\n",
    "    for i in range(X_train.shape[0]):\n",
    "        x = X_train[sh[i]]\n",
    "        y = Y_train[sh[i]]\n",
    "        print(Y_train[sh[i]])\n",
    "        y_h = net.forward(x)\n",
    "        L = loss.forward(y, y_h) #+ net.get_reg_loss()\n",
    "        L_acc += L \n",
    "        dz = loss.backward(1, lr)\n",
    "        dz = net.backward(dz, lr)\n",
    "    L_acc /= Y_train.shape[0]\n",
    "    L_train.append(L_acc)\n",
    "    L_e_acc = 0.\n",
    "    for i in range(X_test.shape[0]):\n",
    "        x = X_test[i]\n",
    "        y = Y_test[i]\n",
    "        y_h = net.forward(x)\n",
    "        L = loss.forward(y, y_h) #+ net.get_reg_loss()\n",
    "        L_e_acc += L\n",
    "    L_e_acc /= Y_test.shape[0]\n",
    "    L_test.append(L_e_acc)\n",
    "    #print(\"{} iter loss. Train : {} . Test : {}\".format(iter, L_acc, L_e_acc))"
   ]
  },
  {
   "cell_type": "code",
   "execution_count": 54,
   "metadata": {},
   "outputs": [
    {
     "data": {
      "text/plain": [
       "[<matplotlib.lines.Line2D at 0x1a251a8048>]"
      ]
     },
     "execution_count": 54,
     "metadata": {},
     "output_type": "execute_result"
    },
    {
     "data": {
      "image/png": "[encoded data removed]",
      "text/plain": [
       "<Figure size 432x288 with 1 Axes>"
      ]
     },
     "metadata": {
      "needs_background": "light"
     },
     "output_type": "display_data"
    }
   ],
   "source": [
    "plt.plot(L_train, label='train')\n",
    "plt.plot(L_test, label='test')"
   ]
  },
  {
   "cell_type": "code",
   "execution_count": 55,
   "metadata": {},
   "outputs": [
    {
     "data": {
      "image/png": "[encoded data removed]",
      "text/plain": [
       "<Figure size 432x432 with 9 Axes>"
      ]
     },
     "metadata": {
      "needs_background": "light"
     },
     "output_type": "display_data"
    }
   ],
   "source": [
    "plt.figure(figsize=(6,6))\n",
    "\n",
    "sh = list(range(X_test.shape[0]))\n",
    "np.random.shuffle(sh)\n",
    "\n",
    "n = 3\n",
    "for i in range(n*n):\n",
    "    ax = plt.subplot(n, n, i+1)\n",
    "\n",
    "    j = sh[i]\n",
    "    R = np.argmax(Y_test[j])\n",
    "    P = net.forward(X_test[j])\n",
    "    Rp = np.argmax(P)\n",
    "\n",
    "    ax.set_title('%s = %.2f R:%s' % (Rp, P[Rp], R))\n",
    "    ax.set_axis_off()\n",
    "    plt.imshow(X_test[j].reshape((28, 28)))\n"
   ]
  },
  {
   "cell_type": "code",
   "execution_count": 56,
   "metadata": {},
   "outputs": [
    {
     "data": {
      "image/png": "[encoded data removed]",
      "text/plain": [
       "<Figure size 432x432 with 2 Axes>"
      ]
     },
     "metadata": {
      "needs_background": "light"
     },
     "output_type": "display_data"
    }
   ],
   "source": [
    "plt.figure(figsize=(6,6))\n",
    "\n",
    "for i in range(0, 2):\n",
    "    ax = plt.subplot(1, 2, i + 1)\n",
    "    ax.set_title('%s' % (i))\n",
    "    ax.set_axis_off()\n",
    "    plt.imshow( net.d.W[i].reshape((28, 28)).T, cmap='gray' )"
   ]
  },
  {
   "cell_type": "markdown",
   "metadata": {},
   "source": [
    "# Pytorch. Autograd.\n",
    "\n",
    "Переходим в другой ноутбук."
   ]
  },
  {
   "cell_type": "markdown",
   "metadata": {},
   "source": [
    "# Чеклист"
   ]
  },
  {
   "cell_type": "markdown",
   "metadata": {},
   "source": [
    "- устройство многослойного персептрона\n",
    "- слои: полносвязный, ReLu, Softmax, Dropout, CrossEntropy\n",
    "- chain rule\n",
    "- правило дифференцирования сложной функции\n",
    "- алгоритм обратного распространения ошибки\n",
    "- Xavier's / He's инициализации\n",
    "- почему при обучении сеть потребляет больше памяти, чем при выводе"
   ]
  },
  {
   "cell_type": "markdown",
   "metadata": {},
   "source": [
    "# Почитать"
   ]
  },
  {
   "cell_type": "markdown",
   "metadata": {},
   "source": [
    "Backprop: лекция в cs231n\n",
    "- почитать: http://cs231n.github.io/optimization-2/\n",
    "- посмотреть: https://www.youtube.com/watch?v=d14TUNcbn1k\n",
    "\n",
    "Устройство мозга\n",
    "- медицина: https://www.coursera.org/learn/medical-neuroscience\n",
    "- информатика: https://www.coursera.org/learn/computational-neuroscience\n",
    "\n",
    "Нейроморфные процессоры\n",
    "- IBM SyNAPSE chip: http://research.ibm.com/cognitive-computing/neurosynaptic-chips.shtml"
   ]
  },
  {
   "cell_type": "code",
   "execution_count": null,
   "metadata": {},
   "outputs": [],
   "source": []
  },
  {
   "cell_type": "code",
   "execution_count": null,
   "metadata": {},
   "outputs": [],
   "source": []
  },
  {
   "cell_type": "code",
   "execution_count": null,
   "metadata": {},
   "outputs": [],
   "source": []
  }
 ],
 "metadata": {
  "kernelspec": {
   "display_name": "Python 3",
   "language": "python",
   "name": "python3"
  },
  "language_info": {
   "codemirror_mode": {
    "name": "ipython",
    "version": 3
   },
   "file_extension": ".py",
   "mimetype": "text/x-python",
   "name": "python",
   "nbconvert_exporter": "python",
   "pygments_lexer": "ipython3",
   "version": "3.7.0"
  }
 },
 "nbformat": 4,
 "nbformat_minor": 2
}
